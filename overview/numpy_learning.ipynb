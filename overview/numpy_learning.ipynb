{
 "cells": [
  {
   "cell_type": "code",
   "execution_count": 17,
   "id": "b3a14d9e-ccb8-404c-a4be-f42e25e5ac40",
   "metadata": {},
   "outputs": [
    {
     "name": "stdout",
     "output_type": "stream",
     "text": [
      "numpy: 2.2.3\n",
      "['False_', 'ScalarType', 'True_', '_CopyMode', '_NoValue', '__NUMPY_SETUP__', '__all__', '__array_api_version__', '__array_namespace_info__', '__builtins__', '__cached__', '__config__', '__dir__', '__doc__', '__expired_attributes__', '__file__', '__former_attrs__', '__future_scalars__', '__getattr__', '__loader__', '__name__', '__numpy_submodules__', '__package__', '__path__', '__spec__', '__version__', '_array_api_info', '_core', '_distributor_init', '_expired_attrs_2_0', '_globals', '_int_extended_msg', '_mat', '_msg', '_pyinstaller_hooks_dir', '_pytesttester', '_specific_msg', '_type_info', '_typing', '_utils', 'abs', 'absolute', 'acos', 'acosh', 'add', 'all', 'allclose', 'amax', 'amin', 'angle', 'any', 'append', 'apply_along_axis', 'apply_over_axes', 'arange', 'arccos', 'arccosh', 'arcsin', 'arcsinh', 'arctan', 'arctan2', 'arctanh', 'argmax', 'argmin', 'argpartition', 'argsort', 'argwhere', 'around', 'array', 'array2string', 'array_equal', 'array_equiv', 'array_repr', 'array_split', 'array_str', 'asanyarray', 'asarray', 'asarray_chkfinite', 'ascontiguousarray', 'asfortranarray', 'asin', 'asinh', 'asmatrix', 'astype', 'atan', 'atan2', 'atanh', 'atleast_1d', 'atleast_2d', 'atleast_3d', 'average', 'bartlett', 'base_repr', 'binary_repr', 'bincount', 'bitwise_and', 'bitwise_count', 'bitwise_invert', 'bitwise_left_shift', 'bitwise_not', 'bitwise_or', 'bitwise_right_shift', 'bitwise_xor', 'blackman', 'block', 'bmat', 'bool', 'bool_', 'broadcast', 'broadcast_arrays', 'broadcast_shapes', 'broadcast_to', 'busday_count', 'busday_offset', 'busdaycalendar', 'byte', 'bytes_', 'c_', 'can_cast', 'cbrt', 'cdouble', 'ceil', 'char', 'character', 'choose', 'clip', 'clongdouble', 'column_stack', 'common_type', 'complex128', 'complex64', 'complexfloating', 'compress', 'concat', 'concatenate', 'conj', 'conjugate', 'convolve', 'copy', 'copysign', 'copyto', 'core', 'corrcoef', 'correlate', 'cos', 'cosh', 'count_nonzero', 'cov', 'cross', 'csingle', 'ctypeslib', 'cumprod', 'cumsum', 'cumulative_prod', 'cumulative_sum', 'datetime64', 'datetime_as_string', 'datetime_data', 'deg2rad', 'degrees', 'delete', 'diag', 'diag_indices', 'diag_indices_from', 'diagflat', 'diagonal', 'diff', 'digitize', 'divide', 'divmod', 'dot', 'double', 'dsplit', 'dstack', 'dtype', 'dtypes', 'e', 'ediff1d', 'einsum', 'einsum_path', 'emath', 'empty', 'empty_like', 'equal', 'errstate', 'euler_gamma', 'exceptions', 'exp', 'exp2', 'expand_dims', 'expm1', 'extract', 'eye', 'f2py', 'fabs', 'fft', 'fill_diagonal', 'finfo', 'fix', 'flatiter', 'flatnonzero', 'flexible', 'flip', 'fliplr', 'flipud', 'float16', 'float32', 'float64', 'float_power', 'floating', 'floor', 'floor_divide', 'fmax', 'fmin', 'fmod', 'format_float_positional', 'format_float_scientific', 'frexp', 'from_dlpack', 'frombuffer', 'fromfile', 'fromfunction', 'fromiter', 'frompyfunc', 'fromregex', 'fromstring', 'full', 'full_like', 'gcd', 'generic', 'genfromtxt', 'geomspace', 'get_include', 'get_printoptions', 'getbufsize', 'geterr', 'geterrcall', 'gradient', 'greater', 'greater_equal', 'half', 'hamming', 'hanning', 'heaviside', 'histogram', 'histogram2d', 'histogram_bin_edges', 'histogramdd', 'hsplit', 'hstack', 'hypot', 'i0', 'identity', 'iinfo', 'imag', 'in1d', 'index_exp', 'indices', 'inexact', 'inf', 'info', 'inner', 'insert', 'int16', 'int32', 'int64', 'int8', 'int_', 'intc', 'integer', 'interp', 'intersect1d', 'intp', 'invert', 'is_busday', 'isclose', 'iscomplex', 'iscomplexobj', 'isdtype', 'isfinite', 'isfortran', 'isin', 'isinf', 'isnan', 'isnat', 'isneginf', 'isposinf', 'isreal', 'isrealobj', 'isscalar', 'issubdtype', 'iterable', 'ix_', 'kaiser', 'kron', 'lcm', 'ldexp', 'left_shift', 'less', 'less_equal', 'lexsort', 'lib', 'linalg', 'linspace', 'little_endian', 'load', 'loadtxt', 'log', 'log10', 'log1p', 'log2', 'logaddexp', 'logaddexp2', 'logical_and', 'logical_not', 'logical_or', 'logical_xor', 'logspace', 'long', 'longdouble', 'longlong', 'ma', 'mask_indices', 'matmul', 'matrix', 'matrix_transpose', 'matvec', 'max', 'maximum', 'may_share_memory', 'mean', 'median', 'memmap', 'meshgrid', 'mgrid', 'min', 'min_scalar_type', 'minimum', 'mintypecode', 'mod', 'modf', 'moveaxis', 'multiply', 'nan', 'nan_to_num', 'nanargmax', 'nanargmin', 'nancumprod', 'nancumsum', 'nanmax', 'nanmean', 'nanmedian', 'nanmin', 'nanpercentile', 'nanprod', 'nanquantile', 'nanstd', 'nansum', 'nanvar', 'ndarray', 'ndenumerate', 'ndim', 'ndindex', 'nditer', 'negative', 'nested_iters', 'newaxis', 'nextafter', 'nonzero', 'not_equal', 'number', 'object_', 'ogrid', 'ones', 'ones_like', 'outer', 'packbits', 'pad', 'partition', 'percentile', 'permute_dims', 'pi', 'piecewise', 'place', 'poly', 'poly1d', 'polyadd', 'polyder', 'polydiv', 'polyfit', 'polyint', 'polymul', 'polynomial', 'polysub', 'polyval', 'positive', 'pow', 'power', 'printoptions', 'prod', 'promote_types', 'ptp', 'put', 'put_along_axis', 'putmask', 'quantile', 'r_', 'rad2deg', 'radians', 'random', 'ravel', 'ravel_multi_index', 'real', 'real_if_close', 'rec', 'recarray', 'reciprocal', 'record', 'remainder', 'repeat', 'require', 'reshape', 'resize', 'result_type', 'right_shift', 'rint', 'roll', 'rollaxis', 'roots', 'rot90', 'round', 'row_stack', 's_', 'save', 'savetxt', 'savez', 'savez_compressed', 'sctypeDict', 'searchsorted', 'select', 'set_printoptions', 'setbufsize', 'setdiff1d', 'seterr', 'seterrcall', 'setxor1d', 'shape', 'shares_memory', 'short', 'show_config', 'show_runtime', 'sign', 'signbit', 'signedinteger', 'sin', 'sinc', 'single', 'sinh', 'size', 'sort', 'sort_complex', 'spacing', 'split', 'sqrt', 'square', 'squeeze', 'stack', 'std', 'str_', 'strings', 'subtract', 'sum', 'swapaxes', 'take', 'take_along_axis', 'tan', 'tanh', 'tensordot', 'test', 'testing', 'tile', 'timedelta64', 'trace', 'transpose', 'trapezoid', 'trapz', 'tri', 'tril', 'tril_indices', 'tril_indices_from', 'trim_zeros', 'triu', 'triu_indices', 'triu_indices_from', 'true_divide', 'trunc', 'typecodes', 'typename', 'typing', 'ubyte', 'ufunc', 'uint', 'uint16', 'uint32', 'uint64', 'uint8', 'uintc', 'uintp', 'ulong', 'ulonglong', 'union1d', 'unique', 'unique_all', 'unique_counts', 'unique_inverse', 'unique_values', 'unpackbits', 'unravel_index', 'unsignedinteger', 'unstack', 'unwrap', 'ushort', 'vander', 'var', 'vdot', 'vecdot', 'vecmat', 'vectorize', 'void', 'vsplit', 'vstack', 'where', 'zeros', 'zeros_like']\n"
     ]
    }
   ],
   "source": [
    "    # How to import numpy\n",
    "import numpy as np\n",
    "    # How to check the version of the numpy package\n",
    "print('numpy:', np.__version__)\n",
    "    # Checking the available methods\n",
    "print(dir(np))"
   ]
  },
  {
   "cell_type": "code",
   "execution_count": null,
   "id": "bd9bd678-d9da-4986-8aec-d85ad83979cb",
   "metadata": {},
   "outputs": [],
   "source": []
  },
  {
   "cell_type": "code",
   "execution_count": 18,
   "id": "3746425b-4847-4beb-b5aa-4496cb339e77",
   "metadata": {},
   "outputs": [
    {
     "name": "stdout",
     "output_type": "stream",
     "text": [
      "Type is: <class 'numpy.ndarray'>\n",
      "[1 2 3 4 5 6 7 8]\n"
     ]
    }
   ],
   "source": [
    "#convert list to array\n",
    "\n",
    "num_list= [1,2,3,4,5,6,7,8]\n",
    "\n",
    "num_array = np.array(num_list)\n",
    "print('Type is:',type(num_array))\n",
    "\n",
    "#print the array\n",
    "print(num_array)"
   ]
  },
  {
   "cell_type": "code",
   "execution_count": 19,
   "id": "27672354-eebc-476f-84dc-c8e718c327dd",
   "metadata": {},
   "outputs": [
    {
     "name": "stdout",
     "output_type": "stream",
     "text": [
      "[1. 2. 3. 4. 5.]\n"
     ]
    }
   ],
   "source": [
    "# Creating a float numpy array from list with a float data type parameter\n",
    "\n",
    "py_list=[1,2,3,4,5]\n",
    "\n",
    "float_array= np.array(py_list, dtype=float)\n",
    "print(float_array)"
   ]
  },
  {
   "cell_type": "code",
   "execution_count": 20,
   "id": "64295c90",
   "metadata": {},
   "outputs": [
    {
     "name": "stdout",
     "output_type": "stream",
     "text": [
      "[ True  True False  True  True]\n"
     ]
    }
   ],
   "source": [
    "# Creating a boolean a numpy array from list\n",
    "\n",
    "num_list = [-1,-2,0,1,2]\n",
    "\n",
    "bool_array = np.array(num_list, dtype=bool)\n",
    "print(bool_array)"
   ]
  },
  {
   "cell_type": "code",
   "execution_count": 21,
   "id": "27cf25c7",
   "metadata": {},
   "outputs": [
    {
     "name": "stdout",
     "output_type": "stream",
     "text": [
      "<class 'numpy.ndarray'>\n",
      "[[0 1 2]\n",
      " [3 4 5]\n",
      " [6 7 8]]\n",
      "<class 'list'>\n",
      "[[0, 1, 2], [3, 4, 5], [6, 7, 8]]\n"
     ]
    }
   ],
   "source": [
    "# A numpy array may have one or multiple rows and columns\n",
    "\n",
    "two_dimensional_list = [[0,1,2], [3,4,5], [6,7,8]]\n",
    "numpy_two_dimensional_list = np.array(two_dimensional_list)\n",
    "print(type (numpy_two_dimensional_list))\n",
    "print(numpy_two_dimensional_list)\n",
    "\n",
    "\n",
    "# convert numpy array to list\n",
    "\n",
    "numpy_to_list = numpy_two_dimensional_list.tolist()\n",
    "print(type(numpy_to_list))\n",
    "print(numpy_to_list)"
   ]
  },
  {
   "cell_type": "code",
   "execution_count": 22,
   "id": "357f6646",
   "metadata": {},
   "outputs": [
    {
     "name": "stdout",
     "output_type": "stream",
     "text": [
      "<class 'numpy.ndarray'>\n",
      "[1 2 3 4 5]\n"
     ]
    }
   ],
   "source": [
    "#convert tuples to array\n",
    "\n",
    "num_tuples = (1,2,3,4,5)\n",
    "\n",
    "tp_to_array = np.array(num_tuples)\n",
    "print(type(tp_to_array))\n",
    "print(tp_to_array)"
   ]
  },
  {
   "cell_type": "code",
   "execution_count": 23,
   "id": "a38efa8d",
   "metadata": {},
   "outputs": [
    {
     "name": "stdout",
     "output_type": "stream",
     "text": [
      "[-3 -2 -1  0  1  2  3]\n",
      "int64\n",
      "[-3. -2. -1.  0.  1.  2.  3.]\n",
      "float64\n",
      "bool\n",
      "[ True  True  True False  True  True  True]\n"
     ]
    }
   ],
   "source": [
    "# Type of data types: str, int, float, complex, bool, list, None\n",
    "\n",
    "int_lists = [-3, -2, -1, 0, 1, 2,3]\n",
    "int_array = np.array(int_lists)\n",
    "float_array = np.array(int_lists, dtype=float)\n",
    "bool_array = np.array(int_lists, dtype=bool)\n",
    "\n",
    "print(int_array)\n",
    "print(int_array.dtype)\n",
    "print(float_array)\n",
    "print(float_array.dtype)\n",
    "print(bool_array.dtype)\n",
    "print(bool_array)"
   ]
  },
  {
   "cell_type": "code",
   "execution_count": null,
   "id": "2f8e80e7",
   "metadata": {},
   "outputs": [],
   "source": []
  },
  {
   "cell_type": "code",
   "execution_count": 24,
   "id": "53412e97",
   "metadata": {},
   "outputs": [
    {
     "name": "stdout",
     "output_type": "stream",
     "text": [
      "The size: 5\n",
      "The size: 9\n"
     ]
    }
   ],
   "source": [
    "# In numpy to know the number of items in a numpy array list we use size\n",
    "\n",
    "numpy_array_from_list = np.array([1, 2, 3, 4, 5])\n",
    "two_dimensional_list = np.array([[0, 1, 2],\n",
    "                              [3, 4, 5],\n",
    "                              [6, 7, 8]])\n",
    "\n",
    "print('The size:', numpy_array_from_list.size) # 5\n",
    "print('The size:', two_dimensional_list.size)  # 3\n"
   ]
  },
  {
   "cell_type": "code",
   "execution_count": null,
   "id": "f2a38b69",
   "metadata": {},
   "outputs": [],
   "source": []
  },
  {
   "cell_type": "code",
   "execution_count": 25,
   "id": "dd2fe5d9",
   "metadata": {},
   "outputs": [
    {
     "name": "stdout",
     "output_type": "stream",
     "text": [
      "[1 2 3 4 5]\n",
      "shape of nums:  (5,)\n",
      "[[0 1 2]\n",
      " [3 4 5]\n",
      " [6 7 8]]\n",
      "shape of numpy_two_dimensional_list:  (3, 3)\n",
      "(3, 4)\n"
     ]
    }
   ],
   "source": [
    "nums = np.array([1, 2, 3, 4, 5])\n",
    "print(nums)\n",
    "print('shape of nums: ', nums.shape)\n",
    "print(numpy_two_dimensional_list)\n",
    "print('shape of numpy_two_dimensional_list: ', numpy_two_dimensional_list.shape)\n",
    "three_by_four_array = np.array([[0, 1, 2, 3],\n",
    "    [4,5,6,7],\n",
    "    [8,9,10, 11]])\n",
    "print(three_by_four_array.shape)"
   ]
  },
  {
   "cell_type": "code",
   "execution_count": null,
   "id": "e6b051ff",
   "metadata": {},
   "outputs": [],
   "source": []
  },
  {
   "cell_type": "code",
   "execution_count": 26,
   "id": "d337027b",
   "metadata": {},
   "outputs": [
    {
     "name": "stdout",
     "output_type": "stream",
     "text": [
      "First row: [1 2 3]\n",
      "Second row: [4 5 6]\n",
      "Third row:  [7 8 9]\n"
     ]
    }
   ],
   "source": [
    "# Getting items from a numpy array\n",
    "\n",
    "# 2 Dimension Array\n",
    "two_dimension_array = np.array([[1,2,3],[4,5,6], [7,8,9]])\n",
    "first_row = two_dimension_array[0]\n",
    "second_row = two_dimension_array[1]\n",
    "third_row = two_dimension_array[2]\n",
    "print('First row:', first_row)\n",
    "print('Second row:', second_row)\n",
    "print('Third row: ', third_row)"
   ]
  },
  {
   "cell_type": "code",
   "execution_count": 27,
   "id": "ba442e29",
   "metadata": {},
   "outputs": [
    {
     "name": "stdout",
     "output_type": "stream",
     "text": [
      "First column: [1 4 7]\n",
      "Second column: [2 5 8]\n",
      "Third column:  [3 6 9]\n",
      "[[1 2 3]\n",
      " [4 5 6]\n",
      " [7 8 9]]\n"
     ]
    }
   ],
   "source": [
    "first_column= two_dimension_array[:,0]\n",
    "second_column = two_dimension_array[:,1]\n",
    "third_column = two_dimension_array[:,2]\n",
    "print('First column:', first_column)\n",
    "print('Second column:', second_column)\n",
    "print('Third column: ', third_column)\n",
    "print(two_dimension_array)\n"
   ]
  },
  {
   "cell_type": "code",
   "execution_count": null,
   "id": "37ab811f",
   "metadata": {},
   "outputs": [],
   "source": []
  },
  {
   "cell_type": "code",
   "execution_count": 28,
   "id": "0cd631ba",
   "metadata": {},
   "outputs": [
    {
     "name": "stdout",
     "output_type": "stream",
     "text": [
      "[[1 2]\n",
      " [4 5]]\n"
     ]
    }
   ],
   "source": [
    "\n",
    "# Slicing in numpy is similar to slicing in python list\n",
    "\n",
    "two_dimension_array = np.array([[1,2,3],[4,5,6], [7,8,9]])\n",
    "first_two_rows_and_columns = two_dimension_array[0:2, 0:2]\n",
    "print(first_two_rows_and_columns)"
   ]
  },
  {
   "cell_type": "code",
   "execution_count": 29,
   "id": "feb9e194",
   "metadata": {},
   "outputs": [
    {
     "data": {
      "text/plain": [
       "array([[1, 2, 3],\n",
       "       [4, 5, 6],\n",
       "       [7, 8, 9]])"
      ]
     },
     "execution_count": 29,
     "metadata": {},
     "output_type": "execute_result"
    }
   ],
   "source": [
    "# How to reverse the rows and the whole array?\n",
    "\n",
    "two_dimension_array[::]"
   ]
  },
  {
   "cell_type": "code",
   "execution_count": 30,
   "id": "2339a8a7",
   "metadata": {},
   "outputs": [
    {
     "data": {
      "text/plain": [
       "array([[9, 8, 7],\n",
       "       [6, 5, 4],\n",
       "       [3, 2, 1]])"
      ]
     },
     "execution_count": 30,
     "metadata": {},
     "output_type": "execute_result"
    }
   ],
   "source": [
    "two_dimension_array = np.array([[1,2,3],[4,5,6], [7,8,9]])\n",
    "two_dimension_array[::-1,::-1]"
   ]
  },
  {
   "cell_type": "code",
   "execution_count": 31,
   "id": "a2cde196",
   "metadata": {},
   "outputs": [
    {
     "name": "stdout",
     "output_type": "stream",
     "text": [
      "[[1 2 3]\n",
      " [4 5 6]\n",
      " [7 8 9]]\n",
      "[[ 1  2  3]\n",
      " [ 4 55 44]\n",
      " [ 7  8  9]]\n"
     ]
    }
   ],
   "source": [
    "# How to represent missing values ?\n",
    "\n",
    "print(two_dimension_array)\n",
    "two_dimension_array[1,1] = 55\n",
    "two_dimension_array[1,2] =44\n",
    "print(two_dimension_array)"
   ]
  },
  {
   "cell_type": "code",
   "execution_count": null,
   "id": "b524ba1d",
   "metadata": {},
   "outputs": [],
   "source": []
  },
  {
   "cell_type": "code",
   "execution_count": 32,
   "id": "22fea8cc",
   "metadata": {},
   "outputs": [
    {
     "name": "stdout",
     "output_type": "stream",
     "text": [
      "[[1 1 1]\n",
      " [1 1 1]\n",
      " [1 1 1]]\n"
     ]
    }
   ],
   "source": [
    "numpy_one = np.ones((3,3), dtype=int, order='C')\n",
    "print(numpy_one)"
   ]
  },
  {
   "cell_type": "code",
   "execution_count": 33,
   "id": "bbfdc13b",
   "metadata": {},
   "outputs": [
    {
     "name": "stdout",
     "output_type": "stream",
     "text": [
      "[[2 2 2]\n",
      " [2 2 2]\n",
      " [2 2 2]]\n"
     ]
    }
   ],
   "source": [
    "#if you want to twoes\n",
    "\n",
    "twoes = numpy_one * 2\n",
    "print(twoes)"
   ]
  },
  {
   "cell_type": "code",
   "execution_count": null,
   "id": "83f07823",
   "metadata": {},
   "outputs": [],
   "source": []
  },
  {
   "cell_type": "code",
   "execution_count": 34,
   "id": "45bd8cfd",
   "metadata": {},
   "outputs": [
    {
     "name": "stdout",
     "output_type": "stream",
     "text": [
      "[[1 2 3]\n",
      " [3 5 6]]\n"
     ]
    }
   ],
   "source": [
    "# Reshape\n",
    "# numpy.reshape(), numpy.flatten()\n",
    "first_shape  = np.array([(1,2,3), (3,5,6)])\n",
    "print(first_shape)"
   ]
  },
  {
   "cell_type": "code",
   "execution_count": 35,
   "id": "24e55bd0",
   "metadata": {},
   "outputs": [
    {
     "name": "stdout",
     "output_type": "stream",
     "text": [
      "[[1 2]\n",
      " [3 3]\n",
      " [5 6]]\n",
      "[1 2 3 3 5 6]\n"
     ]
    }
   ],
   "source": [
    "print(first_shape.reshape(3,2))\n",
    "\n",
    "#flatted the array \n",
    " \n",
    "print(first_shape.flatten())\n",
    "\n"
   ]
  },
  {
   "cell_type": "code",
   "execution_count": null,
   "id": "b521eaf1",
   "metadata": {},
   "outputs": [],
   "source": []
  },
  {
   "cell_type": "code",
   "execution_count": 36,
   "id": "7dc2bcb7",
   "metadata": {},
   "outputs": [
    {
     "name": "stdout",
     "output_type": "stream",
     "text": [
      "[1 2 3] [3 4 5]\n",
      "[4 6 8]\n",
      "Horizontal Append [1 2 3 3 4 5]\n",
      "Vertical Stack [[1 2 3]\n",
      " [3 4 5]]\n"
     ]
    }
   ],
   "source": [
    "#horizontal and vertical stack \n",
    "\n",
    "arr1 = np.array([1,2,3])\n",
    "arr2 = np.array([3,4,5])\n",
    "\n",
    "print(arr1,arr2)\n",
    "\n",
    "print(arr1 + arr2)\n",
    "\n",
    "print('Horizontal Append',np.hstack((arr1, arr2)))\n",
    "\n",
    "#Vertical stack\n",
    "\n",
    "print('Vertical Stack',np.vstack((arr1,arr2)))"
   ]
  },
  {
   "cell_type": "markdown",
   "id": "0b82775b",
   "metadata": {},
   "source": [
    "Generating Random Numbers"
   ]
  },
  {
   "cell_type": "code",
   "execution_count": 37,
   "id": "0acdda66",
   "metadata": {},
   "outputs": [
    {
     "name": "stdout",
     "output_type": "stream",
     "text": [
      "0.795442249761348\n"
     ]
    }
   ],
   "source": [
    "#Random float \n",
    "random_float = np.random.random()\n",
    "print(random_float)"
   ]
  },
  {
   "cell_type": "code",
   "execution_count": 38,
   "id": "fa23ae5b",
   "metadata": {},
   "outputs": [
    {
     "name": "stdout",
     "output_type": "stream",
     "text": [
      "[0.84946871 0.96008937 0.18820818 0.34137659 0.22056783]\n"
     ]
    }
   ],
   "source": [
    "#Random float number \n",
    "random_float = np.random.random(5)\n",
    "print(random_float)"
   ]
  },
  {
   "cell_type": "code",
   "execution_count": 39,
   "id": "972bd3bf",
   "metadata": {},
   "outputs": [
    {
     "name": "stdout",
     "output_type": "stream",
     "text": [
      "[3 5 5 6 3]\n",
      "<class 'numpy.ndarray'>\n"
     ]
    }
   ],
   "source": [
    "#Random int number\n",
    "random_int= np.random.randint(0, 10, size= 5)\n",
    "print(random_int)\n",
    "\n",
    "print(type(random_int))"
   ]
  },
  {
   "cell_type": "code",
   "execution_count": 40,
   "id": "d03801e7",
   "metadata": {},
   "outputs": [
    {
     "data": {
      "text/plain": [
       "array([[4, 9, 5],\n",
       "       [5, 4, 4],\n",
       "       [3, 5, 2]], dtype=int32)"
      ]
     },
     "execution_count": 40,
     "metadata": {},
     "output_type": "execute_result"
    }
   ],
   "source": [
    "# Generating a random integers between 0 and 10\n",
    "random_int = np.random.randint(2,10, size=(3,3))\n",
    "random_int\n"
   ]
  },
  {
   "cell_type": "code",
   "execution_count": 41,
   "id": "b090cfa0",
   "metadata": {},
   "outputs": [
    {
     "data": {
      "text/plain": [
       "array([ 81.97731666,  81.94068352,  60.06824338,  79.84126174,\n",
       "        64.86017157,  47.99940783,  89.8063232 ,  84.76193324,\n",
       "        92.90068819, 110.30372292,  92.50612848,  88.49464349,\n",
       "        67.8379129 ,  79.52321927,  80.80135666, 107.88182456,\n",
       "        68.37826585,  72.61001567,  96.25751426, 122.8198697 ,\n",
       "        61.23401214,  86.07565237,  68.7356741 ,  74.85102492,\n",
       "        62.62334456,  80.42772314,  78.99407107,  71.22067577,\n",
       "        77.06579431,  77.36394047,  69.76874484,  81.93512084,\n",
       "        74.54341684, 102.30481542,  80.01942457,  74.01688825,\n",
       "        67.83856105,  87.83161736,  53.20504182,  96.35664698,\n",
       "        65.02553639, 106.41888758,  76.39710844,  74.12045434,\n",
       "        82.86919685,  78.3798248 ,  86.65684897,  68.99439593,\n",
       "        61.21968282, 120.97502763,  57.91190153,  82.28753069,\n",
       "       105.27080496,  82.972356  ,  77.47876637,  88.19532894,\n",
       "        60.01358563,  77.00627246,  77.59548902,  71.37338663,\n",
       "        67.39433142,  33.9898703 ,  96.43439065,  88.21378022,\n",
       "        88.70419703,  71.61117902,  59.73217162,  90.71658138,\n",
       "        94.31197529,  69.76354673,  67.97505428, 105.29801975,\n",
       "        91.16011813,  85.13152898,  82.98657335,  88.51660008,\n",
       "        78.30610607,  98.04334212,  69.39030938,  78.1927644 ])"
      ]
     },
     "execution_count": 41,
     "metadata": {},
     "output_type": "execute_result"
    }
   ],
   "source": [
    "# np.random.normal(mu, sigma, size)\n",
    "normal_array = np.random.normal(79, 15, 80)\n",
    "normal_array\n"
   ]
  },
  {
   "cell_type": "code",
   "execution_count": null,
   "id": "23ac2eb1",
   "metadata": {},
   "outputs": [],
   "source": []
  },
  {
   "cell_type": "code",
   "execution_count": 42,
   "id": "5b294589",
   "metadata": {},
   "outputs": [],
   "source": [
    "import matplotlib.pyplot as plt\n",
    "import seaborn as sns"
   ]
  },
  {
   "cell_type": "code",
   "execution_count": 75,
   "id": "262d129d",
   "metadata": {},
   "outputs": [
    {
     "data": {
      "text/plain": [
       "(array([1., 0., 0., 0., 0., 0., 0., 1., 0., 0., 1., 0., 0., 1., 3., 2., 1.,\n",
       "        2., 1., 7., 3., 3., 4., 1., 8., 4., 4., 5., 2., 2., 6., 2., 2., 2.,\n",
       "        0., 3., 1., 0., 1., 0., 3., 1., 1., 0., 0., 0., 0., 0., 1., 1.]),\n",
       " array([ 33.9898703 ,  35.76647029,  37.54307027,  39.31967026,\n",
       "         41.09627025,  42.87287024,  44.64947023,  46.42607021,\n",
       "         48.2026702 ,  49.97927019,  51.75587018,  53.53247017,\n",
       "         55.30907015,  57.08567014,  58.86227013,  60.63887012,\n",
       "         62.41547011,  64.19207009,  65.96867008,  67.74527007,\n",
       "         69.52187006,  71.29847005,  73.07507003,  74.85167002,\n",
       "         76.62827001,  78.40487   ,  80.18146998,  81.95806997,\n",
       "         83.73466996,  85.51126995,  87.28786994,  89.06446992,\n",
       "         90.84106991,  92.6176699 ,  94.39426989,  96.17086988,\n",
       "         97.94746986,  99.72406985, 101.50066984, 103.27726983,\n",
       "        105.05386982, 106.8304698 , 108.60706979, 110.38366978,\n",
       "        112.16026977, 113.93686976, 115.71346974, 117.49006973,\n",
       "        119.26666972, 121.04326971, 122.8198697 ]),\n",
       " <BarContainer object of 50 artists>)"
      ]
     },
     "execution_count": 75,
     "metadata": {},
     "output_type": "execute_result"
    },
    {
     "data": {
      "image/png": "[encoded data removed]",
      "text/plain": [
       "<Figure size 640x480 with 1 Axes>"
      ]
     },
     "metadata": {},
     "output_type": "display_data"
    }
   ],
   "source": [
    "plt.hist(normal_array, color=\"red\", bins=50)"
   ]
  },
  {
   "cell_type": "code",
   "execution_count": 44,
   "id": "54bc9135",
   "metadata": {},
   "outputs": [
    {
     "name": "stdout",
     "output_type": "stream",
     "text": [
      "['AbstractContextManager', 'Annotation', 'Arrow', 'Artist', 'AutoLocator', 'AxLine', 'Axes', 'BackendFilter', 'Button', 'Circle', 'Colorizer', 'ColorizingArtist', 'Colormap', 'Enum', 'ExitStack', 'Figure', 'FigureBase', 'FigureCanvasBase', 'FigureManagerBase', 'FixedFormatter', 'FixedLocator', 'FormatStrFormatter', 'Formatter', 'FuncFormatter', 'GridSpec', 'IndexLocator', 'Line2D', 'LinearLocator', 'Locator', 'LogFormatter', 'LogFormatterExponent', 'LogFormatterMathtext', 'LogLocator', 'MaxNLocator', 'MouseButton', 'MultipleLocator', 'Normalize', 'NullFormatter', 'NullLocator', 'PolarAxes', 'Polygon', 'Rectangle', 'ScalarFormatter', 'Slider', 'Subplot', 'SubplotSpec', 'TYPE_CHECKING', 'Text', 'TickHelper', 'Widget', '_ColorizerInterface', '_NO_PYPLOT_NOTE', '_REPL_DISPLAYHOOK', '_ReplDisplayHook', '__annotations__', '__builtins__', '__cached__', '__doc__', '__file__', '__loader__', '__name__', '__package__', '__spec__', '_add_pyplot_note', '_api', '_auto_draw_if_interactive', '_backend_mod', '_color_sequences', '_colormaps', '_copy_docstring_and_deprecators', '_docstring', '_draw_all_if_interactive', '_get_backend_mod', '_get_pyplot_commands', '_log', '_pylab_helpers', '_warn_if_gui_out_of_main_thread', 'acorr', 'angle_spectrum', 'annotate', 'annotations', 'arrow', 'autoscale', 'autumn', 'axes', 'axhline', 'axhspan', 'axis', 'axline', 'axvline', 'axvspan', 'backend_registry', 'bar', 'bar_label', 'barbs', 'barh', 'bone', 'box', 'boxplot', 'broken_barh', 'cast', 'cbook', 'cla', 'clabel', 'clf', 'clim', 'close', 'cm', 'cohere', 'color_sequences', 'colorbar', 'colormaps', 'connect', 'contour', 'contourf', 'cool', 'copper', 'csd', 'cycler', 'delaxes', 'disconnect', 'draw', 'draw_all', 'draw_if_interactive', 'ecdf', 'errorbar', 'eventplot', 'figaspect', 'figimage', 'figlegend', 'fignum_exists', 'figtext', 'figure', 'fill', 'fill_between', 'fill_betweenx', 'findobj', 'flag', 'functools', 'gca', 'gcf', 'gci', 'get', 'get_backend', 'get_cmap', 'get_current_fig_manager', 'get_figlabels', 'get_fignums', 'get_plot_commands', 'get_scale_names', 'getp', 'ginput', 'gray', 'grid', 'hexbin', 'hist', 'hist2d', 'hlines', 'hot', 'hsv', 'importlib', 'imread', 'imsave', 'imshow', 'inferno', 'inspect', 'install_repl_displayhook', 'interactive', 'ioff', 'ion', 'isinteractive', 'jet', 'legend', 'locator_params', 'logging', 'loglog', 'magma', 'magnitude_spectrum', 'margins', 'matplotlib', 'matshow', 'minorticks_off', 'minorticks_on', 'mlab', 'new_figure_manager', 'nipy_spectral', 'np', 'overload', 'pause', 'pcolor', 'pcolormesh', 'phase_spectrum', 'pie', 'pink', 'plasma', 'plot', 'plot_date', 'polar', 'prism', 'psd', 'quiver', 'quiverkey', 'rc', 'rcParams', 'rcParamsDefault', 'rcParamsOrig', 'rc_context', 'rcdefaults', 'rcsetup', 'rgrids', 'savefig', 'sca', 'scatter', 'sci', 'semilogx', 'semilogy', 'set_cmap', 'set_loglevel', 'setp', 'show', 'specgram', 'spring', 'spy', 'stackplot', 'stairs', 'stem', 'step', 'streamplot', 'style', 'subplot', 'subplot2grid', 'subplot_mosaic', 'subplot_tool', 'subplots', 'subplots_adjust', 'summer', 'suptitle', 'switch_backend', 'sys', 'table', 'text', 'thetagrids', 'threading', 'tick_params', 'ticklabel_format', 'tight_layout', 'time', 'title', 'tricontour', 'tricontourf', 'tripcolor', 'triplot', 'twinx', 'twiny', 'uninstall_repl_displayhook', 'violinplot', 'viridis', 'vlines', 'waitforbuttonpress', 'winter', 'xcorr', 'xkcd', 'xlabel', 'xlim', 'xscale', 'xticks', 'ylabel', 'ylim', 'yscale', 'yticks']\n"
     ]
    }
   ],
   "source": [
    "print(dir(plt))"
   ]
  },
  {
   "cell_type": "code",
   "execution_count": 45,
   "id": "5bbe2eec",
   "metadata": {},
   "outputs": [],
   "source": [
    "sns.set()"
   ]
  },
  {
   "cell_type": "code",
   "execution_count": 46,
   "id": "0e4e4a95",
   "metadata": {},
   "outputs": [
    {
     "name": "stdout",
     "output_type": "stream",
     "text": [
      "[[1. 1. 1. 1.]\n",
      " [1. 1. 1. 1.]\n",
      " [1. 1. 1. 1.]\n",
      " [1. 1. 1. 1.]]\n"
     ]
    }
   ],
   "source": [
    "#Matrix in numpy\n",
    "\n",
    "four_by_four_matrix = np.matrix(np.ones((4,4), dtype=float))\n",
    "print(four_by_four_matrix)"
   ]
  },
  {
   "cell_type": "code",
   "execution_count": 47,
   "id": "14063d9b",
   "metadata": {},
   "outputs": [
    {
     "data": {
      "text/plain": [
       "matrix([[1., 1., 1., 1.],\n",
       "        [1., 1., 1., 1.],\n",
       "        [2., 2., 2., 2.],\n",
       "        [1., 1., 1., 1.]])"
      ]
     },
     "execution_count": 47,
     "metadata": {},
     "output_type": "execute_result"
    }
   ],
   "source": [
    "np.asarray(four_by_four_matrix)[2] = 2\n",
    "four_by_four_matrix"
   ]
  },
  {
   "cell_type": "markdown",
   "id": "ec96c9ee",
   "metadata": {},
   "source": [
    "What is Arrange?\n",
    "Sometimes, you want to create values that are evenly spaced within a defined interval. For instance, you want to create values from 1 to 10; you can use numpy.arange() function\n",
    "\n"
   ]
  },
  {
   "cell_type": "code",
   "execution_count": 48,
   "id": "8a6e4121",
   "metadata": {},
   "outputs": [
    {
     "name": "stdout",
     "output_type": "stream",
     "text": [
      "0\n",
      "2\n",
      "4\n",
      "6\n",
      "8\n",
      "10\n"
     ]
    }
   ],
   "source": [
    "#creating the list using (start, end, step)\n",
    "lst = range(0,11, 2)\n",
    "for l in lst:\n",
    "    print(l)"
   ]
  },
  {
   "cell_type": "code",
   "execution_count": 63,
   "id": "a48b8f0c",
   "metadata": {},
   "outputs": [
    {
     "data": {
      "text/plain": [
       "array([ 0,  1,  2,  3,  4,  5,  6,  7,  8,  9, 10, 11, 12, 13, 14, 15, 16,\n",
       "       17, 18, 19])"
      ]
     },
     "execution_count": 63,
     "metadata": {},
     "output_type": "execute_result"
    }
   ],
   "source": [
    "#similar to the list for loop instant's of using arrange\n",
    "\n",
    "whole_numbers = np.arange(0,20,1)\n",
    "whole_numbers"
   ]
  },
  {
   "cell_type": "code",
   "execution_count": 64,
   "id": "53639fac",
   "metadata": {},
   "outputs": [
    {
     "name": "stdout",
     "output_type": "stream",
     "text": [
      "[ 1  3  5  7  9 11 13 15 17 19]\n",
      "[ 2  4  6  8 10 12 14 16 18]\n"
     ]
    }
   ],
   "source": [
    "natural_no = np.arange(1,20,1)\n",
    "natural_no\n",
    "\n",
    "odd_number = np.arange(1,20, 2)\n",
    "print(odd_number)\n",
    "\n",
    "even_number= np.arange(2,20, 2)\n",
    "print(even_number)"
   ]
  },
  {
   "cell_type": "markdown",
   "id": "fcf433d0",
   "metadata": {},
   "source": [
    "Creating sequence of numbers using linspace"
   ]
  },
  {
   "cell_type": "code",
   "execution_count": 65,
   "id": "314777b3",
   "metadata": {},
   "outputs": [
    {
     "data": {
      "text/plain": [
       "array([1.        , 1.44444444, 1.88888889, 2.33333333, 2.77777778,\n",
       "       3.22222222, 3.66666667, 4.11111111, 4.55555556, 5.        ])"
      ]
     },
     "execution_count": 65,
     "metadata": {},
     "output_type": "execute_result"
    }
   ],
   "source": [
    "# numpy.linspace()\n",
    "# numpy.logspace() in Python with Example\n",
    "# For instance, it can be used to create 10 values from 1 to 5 evenly spaced.\n",
    "np.linspace(1.0, 5.0, num=10)"
   ]
  },
  {
   "cell_type": "code",
   "execution_count": 66,
   "id": "1d34bd9b",
   "metadata": {},
   "outputs": [
    {
     "data": {
      "text/plain": [
       "array([1.00000000e+01, 2.78255940e+01, 7.74263683e+01, 2.15443469e+02,\n",
       "       5.99484250e+02, 1.66810054e+03, 4.64158883e+03, 1.29154967e+04,\n",
       "       3.59381366e+04, 1.00000000e+05])"
      ]
     },
     "execution_count": 66,
     "metadata": {},
     "output_type": "execute_result"
    }
   ],
   "source": [
    "np.logspace(1.0,5.0,num=10)"
   ]
  },
  {
   "cell_type": "code",
   "execution_count": 67,
   "id": "21529f31",
   "metadata": {},
   "outputs": [
    {
     "data": {
      "text/plain": [
       "array([1. , 1.8, 2.6, 3.4, 4.2])"
      ]
     },
     "execution_count": 67,
     "metadata": {},
     "output_type": "execute_result"
    }
   ],
   "source": [
    "# not to include the last value in the interval\n",
    "np.linspace(1.0, 5.0, num=5, endpoint=False)"
   ]
  },
  {
   "cell_type": "code",
   "execution_count": 54,
   "id": "a90b7664",
   "metadata": {},
   "outputs": [
    {
     "data": {
      "text/plain": [
       "array([  100.        ,   464.15888336,  2154.43469003, 10000.        ])"
      ]
     },
     "execution_count": 54,
     "metadata": {},
     "output_type": "execute_result"
    }
   ],
   "source": [
    "# LogSpace\n",
    "# LogSpace returns even spaced numbers on a log scale. Logspace has the same parameters as np.linspace.\n",
    "\n",
    "# Syntax:\n",
    "\n",
    "# numpy.logspace(start, stop, num, endpoint)\n",
    "\n",
    "np.logspace(2, 4.0, num=4)"
   ]
  },
  {
   "cell_type": "code",
   "execution_count": 68,
   "id": "0236a638",
   "metadata": {},
   "outputs": [],
   "source": [
    "# to check the size of an array\n",
    "x = np.array([1,2,3], dtype=np.complex128)"
   ]
  },
  {
   "cell_type": "code",
   "execution_count": 69,
   "id": "61526899",
   "metadata": {},
   "outputs": [
    {
     "data": {
      "text/plain": [
       "array([1.+0.j, 2.+0.j, 3.+0.j])"
      ]
     },
     "execution_count": 69,
     "metadata": {},
     "output_type": "execute_result"
    }
   ],
   "source": [
    "x"
   ]
  },
  {
   "cell_type": "code",
   "execution_count": 70,
   "id": "7f994317",
   "metadata": {},
   "outputs": [
    {
     "name": "stdout",
     "output_type": "stream",
     "text": [
      "16\n"
     ]
    }
   ],
   "source": [
    "print(x.itemsize)"
   ]
  },
  {
   "cell_type": "markdown",
   "id": "2d5d975c",
   "metadata": {},
   "source": [
    "Numpy Statistical function"
   ]
  },
  {
   "cell_type": "code",
   "execution_count": 71,
   "id": "9b78063b",
   "metadata": {},
   "outputs": [
    {
     "data": {
      "text/plain": [
       "array([5.05343094, 5.66273928, 5.36422084, 3.49921882, 5.05213709,\n",
       "       5.13490008, 4.80520102, 5.54599533, 5.08020871, 5.50600652,\n",
       "       4.60002385, 4.46063714, 5.3000751 , 5.43118314, 5.11584441,\n",
       "       5.38089288, 5.51477777, 4.7937071 , 4.71515451, 4.49295089,\n",
       "       4.83517155, 5.08182172, 5.61813558, 4.894811  , 4.71199642,\n",
       "       5.61400176, 4.33943082, 4.38829903, 5.34831283, 5.70643097,\n",
       "       5.38437056, 4.58440096, 5.18424279, 5.17603859, 5.19176768,\n",
       "       5.11786271, 5.53552816, 5.10808578, 5.11137174, 5.56411518,\n",
       "       5.02559284, 5.2131611 , 5.02355533, 4.73356502, 5.09466267,\n",
       "       4.90802378, 5.03519665, 5.12520366, 4.54231398, 4.92149284,\n",
       "       5.43037786, 4.36206049, 4.2366932 , 4.83371209, 4.89410902,\n",
       "       5.78341011, 4.93663699, 5.44442151, 5.55320705, 4.63877098,\n",
       "       4.575881  , 4.47666398, 4.84229005, 5.78086767, 4.60527653,\n",
       "       4.80420761, 5.00790236, 5.73358803, 5.10706357, 4.58543065,\n",
       "       4.80037133, 5.22019142, 5.15152674, 5.20157152, 5.24653478,\n",
       "       4.72472469, 5.63408465, 4.39806441, 4.8389286 , 5.04274617,\n",
       "       4.58211146, 4.41252049, 5.39056633, 4.76432349, 5.62308215,\n",
       "       5.79171748, 4.55922514, 5.14416786, 4.86855135, 5.6086957 ,\n",
       "       4.86885559, 5.60401483, 4.66366178, 4.83659678, 4.74708925,\n",
       "       4.90750382, 3.91107581, 5.86843301, 3.81660096, 5.28956618])"
      ]
     },
     "execution_count": 71,
     "metadata": {},
     "output_type": "execute_result"
    }
   ],
   "source": [
    "numbers = np.random.normal(5, 0.5, 100)\n",
    "numbers"
   ]
  },
  {
   "cell_type": "code",
   "execution_count": 72,
   "id": "05cd3cd5",
   "metadata": {},
   "outputs": [
    {
     "name": "stdout",
     "output_type": "stream",
     "text": [
      "Minimum 3.4992188154775583\n",
      "Maximum 5.86843301267079\n"
     ]
    }
   ],
   "source": [
    "print('Minimum',numbers.min())\n",
    "\n",
    "print('Maximum', numbers.max())"
   ]
  },
  {
   "cell_type": "code",
   "execution_count": 73,
   "id": "ee45870c",
   "metadata": {},
   "outputs": [
    {
     "name": "stdout",
     "output_type": "stream",
     "text": [
      "mean 5.017779436422688\n",
      "Standard Deviation 0.4539959502769512\n"
     ]
    }
   ],
   "source": [
    "print('mean',numbers.mean())\n",
    "\n",
    "# print('Median ',numbers.med())\n",
    "\n",
    "print('Standard Deviation',numbers.std())"
   ]
  },
  {
   "cell_type": "code",
   "execution_count": 74,
   "id": "5ea5730d",
   "metadata": {},
   "outputs": [
    {
     "name": "stdout",
     "output_type": "stream",
     "text": [
      "[[ 1  2  3]\n",
      " [ 4 55 44]\n",
      " [ 7  8  9]]\n",
      "Column with minimum:  [1 2 3]\n",
      "Column with maximum:  [ 7 55 44]\n",
      "=== Row ==\n",
      "Row with minimum:  [1 4 7]\n",
      "Row with maximum:  [ 3 55  9]\n"
     ]
    }
   ],
   "source": [
    "print(two_dimension_array)\n",
    "print('Column with minimum: ', np.amin(two_dimension_array,axis=0))\n",
    "print('Column with maximum: ', np.amax(two_dimension_array,axis=0))\n",
    "print('=== Row ==')\n",
    "print('Row with minimum: ', np.amin(two_dimension_array,axis=1))\n",
    "print('Row with maximum: ', np.amax(two_dimension_array,axis=1))"
   ]
  },
  {
   "cell_type": "code",
   "execution_count": 77,
   "id": "116be8c6",
   "metadata": {},
   "outputs": [
    {
     "name": "stdout",
     "output_type": "stream",
     "text": [
      "Title [1 2 3 4 1 2 3 4]\n",
      "repeat [1 1 2 2 3 3 4 4]\n"
     ]
    }
   ],
   "source": [
    "# How to create repeating sequences?\n",
    "\n",
    "a= [1,2,3,4]\n",
    "\n",
    "#repeat the entire list again again\n",
    "print('Title',np.tile(a,2))\n",
    "\n",
    "#repeat each element in the list\n",
    "\n",
    "print('repeat',np.repeat(a,2))"
   ]
  },
  {
   "cell_type": "code",
   "execution_count": 78,
   "id": "2c44a472",
   "metadata": {},
   "outputs": [
    {
     "name": "stdout",
     "output_type": "stream",
     "text": [
      "[[0.75098214 0.6681003  0.77387133]\n",
      " [0.27424833 0.22284875 0.72063649]]\n"
     ]
    }
   ],
   "source": [
    "# Random numbers between [0,1) of shape 2,3\n",
    "r = np.random.random(size=[2,3])\n",
    "print(r)"
   ]
  },
  {
   "cell_type": "code",
   "execution_count": 82,
   "id": "e86c4903",
   "metadata": {},
   "outputs": [
    {
     "name": "stdout",
     "output_type": "stream",
     "text": [
      "['o' 'a']\n"
     ]
    }
   ],
   "source": [
    "rand_choice = np.random.choice(['a','e','i','o','u'],size=2)\n",
    "print(rand_choice)"
   ]
  },
  {
   "cell_type": "code",
   "execution_count": 87,
   "id": "7bb04d1d",
   "metadata": {},
   "outputs": [
    {
     "data": {
      "text/plain": [
       "array([4.86171722, 5.6704021 , 4.91131031, 4.80215783, 5.08687691,\n",
       "       5.30184205, 5.45466731, 5.38078641, 4.49076643, 4.48853394,\n",
       "       4.15324537, 5.21979087, 5.31458261, 4.8189158 , 4.65709156,\n",
       "       5.01711128, 5.24325184, 5.33153765, 5.19478268, 4.6807618 ,\n",
       "       5.25230903, 5.68544651, 4.96065401, 5.31647438, 4.7911914 ,\n",
       "       5.15153962, 5.71771445, 5.05767011, 4.58345238, 4.67297086,\n",
       "       4.88609634, 4.91420105, 5.47987063, 5.58555735, 5.20768636,\n",
       "       4.83614802, 5.14973036, 5.82110123, 4.5807988 , 4.76848333,\n",
       "       5.08072605, 4.32503495, 5.89921019, 6.08557875, 4.89176255,\n",
       "       5.63728611, 5.04686154, 5.40087902, 5.59348091, 5.38387507,\n",
       "       3.90919195, 6.11191752, 3.95804502, 5.19307745, 5.32681645,\n",
       "       5.19533307, 5.07867855, 3.99011476, 4.58269305, 4.78301807,\n",
       "       4.81736792, 4.86657913, 4.18877672, 4.94166206, 4.95031376,\n",
       "       4.49755922, 4.82684335, 5.03003412, 4.46887615, 4.93890925,\n",
       "       3.94070942, 4.9769306 , 4.40468142, 5.71699687, 5.5789751 ,\n",
       "       5.23788161, 4.99370196, 4.708791  , 4.70427095, 3.85849047,\n",
       "       4.5377532 , 5.84549799, 4.98859555, 5.2856566 , 4.97173462,\n",
       "       5.17416513, 3.94104963, 5.04218023, 5.41026587, 5.32869445,\n",
       "       4.99912517, 5.14074843, 4.53103663, 5.28303303, 5.31402901,\n",
       "       3.8621657 , 4.71342451, 5.30362817, 5.1496604 , 5.0549251 ,\n",
       "       4.78983294, 5.52364584, 4.85015049, 5.17135212, 4.7169216 ,\n",
       "       5.32324491, 4.60251882, 5.0934404 , 4.92037758, 5.15644471,\n",
       "       5.30260693, 5.38340071, 5.08035078, 5.28182371, 5.47007922,\n",
       "       4.3413775 , 5.47243464, 5.4922216 , 5.67845366, 6.08768829,\n",
       "       5.33441984, 5.41498754, 4.63216536, 4.85508491, 5.15775625,\n",
       "       5.79148669, 5.42836786, 4.71930826, 4.04222683, 5.76557995,\n",
       "       4.92048049, 5.08708287, 5.6454062 , 5.33825531, 4.4720663 ,\n",
       "       5.31186303, 5.13891928, 4.40530633, 4.46683987, 6.07325132,\n",
       "       5.80194669, 5.46867128, 4.9884258 , 5.49984674, 5.01107538,\n",
       "       4.63934044, 4.75571647, 5.39356735, 4.98049014, 4.76882035,\n",
       "       5.04036685, 5.43727824, 4.83164814, 4.81568464, 4.65576662,\n",
       "       5.34174667, 5.36686246, 4.67929994, 5.20010133, 4.54697173,\n",
       "       4.5957322 , 5.03071168, 4.87941661, 5.48872396, 4.15147319,\n",
       "       6.25163766, 4.55647575, 5.52153883, 5.06499425, 5.06251712,\n",
       "       4.40744662, 4.80236261, 4.84275654, 5.8710811 , 4.85988054,\n",
       "       5.59684861, 5.24527047, 5.41023079, 5.64440655, 4.36787632,\n",
       "       5.65079258, 4.62381719, 5.41061861, 3.78214948, 5.41436582,\n",
       "       4.83609386, 4.47516787, 5.3107139 , 4.98998812, 5.00463173,\n",
       "       5.03823757, 4.50215297, 4.63008362, 4.51504563, 4.12780717,\n",
       "       4.68363438, 4.94676755, 4.60773205, 5.10281989, 4.40188684,\n",
       "       5.32360576, 4.59068225, 5.76946486, 4.75973056, 5.01416028,\n",
       "       4.86952313, 5.16706418, 4.84533438, 4.18908927, 5.01156258,\n",
       "       5.10613862, 5.50403928, 4.0034426 , 5.47717799, 5.52953393,\n",
       "       5.43744152, 5.56815368, 4.3173646 , 5.48399123, 4.60151591,\n",
       "       4.4718535 , 4.51242905, 4.01996885, 4.13314262, 5.65842427,\n",
       "       5.39685184, 4.83331971, 4.91523872, 4.96660555, 5.1722657 ,\n",
       "       6.38871754, 5.58607288, 4.7779477 , 6.16743431, 4.43664868,\n",
       "       3.80295627, 5.87752297, 4.92709322, 4.85363416, 4.92060754,\n",
       "       5.66011122, 5.57930873, 4.47491399, 4.67378692, 5.54857515,\n",
       "       4.06789331, 4.63570218, 4.89632388, 4.99480518, 6.03570011,\n",
       "       4.54360997, 5.1850585 , 5.15849044, 5.24725289, 5.13800601,\n",
       "       5.60715518, 5.66768306, 4.97362028, 5.02158648, 4.92371317,\n",
       "       5.44863119, 3.96157722, 4.62554718, 5.18197069, 4.91306759,\n",
       "       5.05444421, 5.59138563, 5.13942577, 5.1109452 , 4.86837013,\n",
       "       4.79623622, 4.89670814, 5.61368811, 4.67746768, 4.97192155,\n",
       "       4.99982698, 5.62375071, 5.32299676, 4.88294938, 4.70593942,\n",
       "       5.71177449, 5.55631827, 5.38567252, 4.56791574, 5.35040274,\n",
       "       5.09110845, 4.63097703, 3.9660675 , 4.88148628, 5.1317353 ,\n",
       "       5.12341887, 4.84691782, 4.64132236, 5.27465338, 4.5994197 ,\n",
       "       4.95780489, 4.97459851, 5.20065688, 5.33720074, 4.82855367,\n",
       "       5.24356997, 5.40269509, 5.69219928, 5.63008984, 5.91045403,\n",
       "       4.49945114, 4.72745822, 4.7769062 , 4.95426791, 4.74150926,\n",
       "       5.15984927, 5.08255351, 4.52246595, 4.25943604, 4.74360237,\n",
       "       5.17807607, 5.62213054, 5.41238004, 4.85406072, 4.38053648,\n",
       "       5.0165889 , 5.08354691, 4.88515683, 5.06554965, 4.0889505 ,\n",
       "       5.71339157, 4.65121492, 3.98394221, 4.38572651, 6.09231062,\n",
       "       4.79083436, 5.21269984, 4.77491927, 4.46775605, 5.75578926,\n",
       "       4.79463963, 5.61210872, 4.89560753, 4.90125161, 4.3317699 ,\n",
       "       5.24736412, 5.69493194, 4.63644616, 5.06347421, 5.5363005 ,\n",
       "       4.64070232, 5.41060774, 4.55459087, 5.22773413, 5.70406239,\n",
       "       4.73355994, 4.1213774 , 4.84072223, 4.15618549, 4.33578346,\n",
       "       5.90823308, 4.31122751, 5.96358715, 6.14529072, 4.8965396 ,\n",
       "       4.71367385, 5.29460561, 6.082096  , 5.3945603 , 4.61054428,\n",
       "       4.86200691, 4.31397207, 4.06556365, 5.12428607, 4.18380824,\n",
       "       5.43093403, 4.6607799 , 5.87255054, 5.02313282, 4.96960161,\n",
       "       5.5415788 , 4.84529745, 5.91708358, 5.35749756, 5.52049978,\n",
       "       4.46643044, 4.6904263 , 5.34630274, 5.04756452, 4.94712147,\n",
       "       5.61780792, 5.82084854, 5.10971392, 4.7011283 , 5.21327813,\n",
       "       5.34633329, 5.42193974, 5.39655173, 4.83351838, 4.85961412,\n",
       "       5.00270385, 4.5133817 , 5.14336656, 5.44433875, 5.7818316 ,\n",
       "       4.81214377, 4.21080319, 5.93488535, 4.82472901, 4.3022352 ,\n",
       "       5.41882027, 5.00016624, 4.74635829, 4.33741362, 4.9963678 ,\n",
       "       4.31134892, 5.85404848, 4.67768753, 5.88254342, 4.61679067,\n",
       "       5.57990974, 4.99896038, 3.7675947 , 4.91853868, 4.8755794 ,\n",
       "       5.01469276, 5.78625889, 5.32664496, 4.8971288 , 4.45992238,\n",
       "       5.47427513, 4.81857176, 5.09526442, 5.17329144, 4.53868076,\n",
       "       4.30734627, 3.99911602, 4.67964097, 5.06164439, 4.76907205,\n",
       "       5.31046175, 5.01893929, 5.85296385, 4.67107785, 5.30986567,\n",
       "       4.34055472, 5.61045082, 5.61885884, 5.20698272, 4.64150302,\n",
       "       5.4685895 , 5.2664452 , 5.23178697, 5.26810008, 4.79658403,\n",
       "       5.51896643, 5.27549905, 4.48616109, 4.74966611, 4.56502863,\n",
       "       4.99306517, 5.0129731 , 4.71286985, 5.26336209, 4.62309056,\n",
       "       5.71860232, 6.02680917, 5.52090636, 4.72638816, 4.81406614,\n",
       "       5.04229258, 4.9308438 , 4.11248218, 6.28831176, 4.62816888,\n",
       "       5.94230375, 5.13814167, 4.53722327, 5.21679483, 4.92307464,\n",
       "       4.56822265, 5.08832819, 4.33374109, 5.07964746, 4.48203733,\n",
       "       4.84868716, 4.63698207, 5.59520941, 4.88470761, 4.65428128,\n",
       "       5.74243572, 5.06877271, 5.10405424, 4.74757457, 5.54837769,\n",
       "       5.14481463, 5.47632427, 4.83825326, 4.54277134, 4.67817947,\n",
       "       4.4842326 , 4.63443361, 5.48781685, 4.34999828, 5.12492256,\n",
       "       4.96615341, 5.40313203, 5.76461806, 5.30299574, 4.8211955 ,\n",
       "       4.89791592, 4.5422257 , 5.58145112, 5.8239936 , 4.79565851,\n",
       "       5.82889359, 4.73720306, 4.73020527, 6.02723682, 5.12496292,\n",
       "       5.2887814 , 5.79096595, 4.75656531, 5.06316073, 4.74870148,\n",
       "       5.40427464, 5.82261462, 4.80950123, 5.81081607, 4.54053021,\n",
       "       4.77717221, 5.80523954, 5.22706025, 4.67266604, 4.68545043,\n",
       "       5.42458404, 5.60403646, 5.69347319, 5.35953808, 5.08656635,\n",
       "       4.89908402, 5.96448834, 4.92108024, 4.9453649 , 5.31515482,\n",
       "       4.70563263, 6.24996642, 5.05585334, 5.51880421, 5.06934859,\n",
       "       4.76322186, 5.49663043, 5.51289819, 4.39470248, 4.81847841,\n",
       "       5.35530861, 4.98176399, 5.31856886, 4.9729794 , 5.21827878,\n",
       "       4.84417141, 5.19211651, 5.00319969, 5.36716794, 4.69399748,\n",
       "       5.24136523, 4.74436794, 5.23935535, 4.72356072, 6.03149057,\n",
       "       4.20413795, 4.19768922, 5.50911952, 5.09240584, 4.58447897,\n",
       "       5.18003111, 4.89237261, 5.60507941, 5.17057904, 5.63397528,\n",
       "       5.2721227 , 4.70361336, 4.96369938, 5.102779  , 4.81214886,\n",
       "       3.92330541, 5.58151118, 5.45087786, 4.79617314, 5.41018043,\n",
       "       4.839809  , 4.91622394, 5.17816733, 4.8746447 , 4.78358497,\n",
       "       6.5398344 , 5.70802347, 5.77532032, 5.26325597, 4.45330663,\n",
       "       5.48569674, 4.49356109, 4.77733674, 4.93071194, 5.55491497,\n",
       "       4.84374027, 5.34640577, 4.58270887, 5.14599998, 4.57533054,\n",
       "       4.1453128 , 5.74192606, 4.39666148, 3.98189155, 3.59562367,\n",
       "       4.83980952, 5.43809791, 4.62156723, 4.79198502, 4.40031027,\n",
       "       4.29447932, 4.87267941, 4.98405071, 4.77471487, 5.00744504,\n",
       "       4.71699915, 5.17952663, 4.53834142, 4.79158557, 5.04699735,\n",
       "       4.42492422, 5.32544905, 4.57385747, 5.19638027, 4.44079545,\n",
       "       4.39475967, 5.4955271 , 5.14526655, 4.88979317, 5.47672155,\n",
       "       4.60798792, 5.39040226, 4.45278741, 5.25256097, 4.33971682,\n",
       "       4.58855524, 5.01830227, 4.81927167, 4.44880556, 5.34444689,\n",
       "       4.71750003, 4.87127279, 5.29078532, 4.55566514, 5.08366846,\n",
       "       4.97603435, 4.61573358, 4.97705017, 4.94998148, 5.21431689,\n",
       "       5.06815921, 4.15132827, 5.52852227, 4.38040552, 4.88219719,\n",
       "       5.72097452, 3.84709079, 4.49064557, 5.99437579, 5.31018143,\n",
       "       5.12897655, 4.81452228, 6.0216934 , 5.17910036, 5.26531736,\n",
       "       5.50537999, 4.7054375 , 5.37566732, 5.18864033, 3.59677345,\n",
       "       4.98399445, 4.59244576, 5.12881734, 4.92888244, 5.07180577,\n",
       "       5.07266341, 4.691924  , 5.34833266, 5.70937659, 5.52017673,\n",
       "       5.42384481, 4.41944745, 4.2153373 , 5.51347122, 5.13585933,\n",
       "       4.11111679, 5.34587639, 5.24569177, 4.74721558, 5.29929066,\n",
       "       4.51853702, 4.36880803, 4.7086218 , 4.80339441, 4.96439813,\n",
       "       5.13178954, 5.00173156, 4.96090758, 4.90896448, 5.64320169,\n",
       "       4.20769205, 4.75831983, 5.33930599, 5.32314504, 4.39317226,\n",
       "       5.15144322, 4.45495984, 5.18790753, 5.88648601, 5.76858724,\n",
       "       4.6455781 , 4.12519703, 4.96317462, 5.22870323, 5.23771627,\n",
       "       3.87849694, 5.09599952, 5.51331084, 5.26589069, 5.29784681,\n",
       "       4.75256454, 5.39277376, 5.32181637, 4.74483042, 4.59178848,\n",
       "       4.56598252, 5.0315681 , 5.1717268 , 4.32653795, 5.89036475,\n",
       "       5.62569809, 5.41958672, 4.43172843, 5.92107952, 5.66693475,\n",
       "       4.91745029, 5.4843603 , 5.28917023, 4.72608945, 5.36284046,\n",
       "       4.81295517, 4.27528408, 4.47397311, 4.98243895, 5.32082663,\n",
       "       4.86375087, 4.55750071, 5.47641454, 5.58880649, 5.89640993,\n",
       "       4.68913602, 6.15201498, 5.1470338 , 5.33628073, 4.80408453,\n",
       "       5.25322228, 5.08391197, 4.78494777, 4.33011386, 4.68083766,\n",
       "       4.76311085, 4.4544116 , 5.90146315, 4.93599579, 4.29161187,\n",
       "       5.15113376, 5.52816524, 4.74839729, 5.90145987, 4.08987995,\n",
       "       5.40033725, 4.9595866 , 4.6918609 , 5.43218323, 5.16703161,\n",
       "       3.90502802, 4.49772961, 5.35934899, 4.76162816, 5.67711014,\n",
       "       4.90048728, 5.42507141, 5.13499121, 4.94423194, 4.88009064,\n",
       "       4.71244324, 4.82352559, 5.66250604, 5.05481598, 5.77608254,\n",
       "       4.52009925, 4.03458989, 5.5807348 , 5.20946724, 5.57789919,\n",
       "       5.34720682, 5.18766439, 5.13687767, 5.06120371, 4.24420678,\n",
       "       3.76815087, 4.73637807, 5.24870164, 5.2693026 , 5.21292947,\n",
       "       4.96446159, 5.21429593, 5.09674721, 4.88304778, 3.80235466,\n",
       "       4.97753751, 4.47126168, 5.12709213, 5.07139378, 4.56690808,\n",
       "       4.29277611, 5.04519156, 5.17709368, 4.69659509, 4.92661381,\n",
       "       5.03649784, 5.45327555, 4.80965119, 4.56233604, 5.47451639,\n",
       "       5.22297316, 4.89474445, 4.30029253, 4.95304667, 5.26603115,\n",
       "       5.59732263, 5.41522335, 5.01988394, 4.76956735, 4.94615297,\n",
       "       5.01554235, 6.18889853, 5.61961302, 4.89274469, 5.86635071,\n",
       "       5.65062237, 5.99968995, 5.37649271, 4.49602465, 5.42349956,\n",
       "       5.32739673, 5.35775279, 4.56911634, 4.55805789, 4.7384483 ,\n",
       "       4.8549337 , 4.54897245, 4.5003898 , 4.06181588, 4.55979758,\n",
       "       4.31761174, 4.19774648, 5.410507  , 5.12342498, 3.90167102,\n",
       "       4.66134242, 5.13512243, 4.92085119, 4.99119167, 5.01238423,\n",
       "       5.17970808, 4.65077257, 4.29468476, 4.68254449, 3.92165492,\n",
       "       5.10544873, 4.2360006 , 5.03010657, 5.11915091, 5.44377886,\n",
       "       5.08052375, 5.73420159, 4.38428811, 4.91152155, 5.07207551,\n",
       "       5.20443177, 4.58992158, 5.38297561, 4.89931503, 5.21936298,\n",
       "       5.48586646, 5.47693675, 5.22356271, 5.55596608, 4.76465811,\n",
       "       5.18653584, 4.3832509 , 4.59129982, 5.89513647, 5.5612708 ,\n",
       "       5.33491175, 4.64933514, 5.68499587, 4.87251213, 5.63133894,\n",
       "       5.29763337, 5.23569871, 4.96773608, 4.88142439, 5.06056006,\n",
       "       5.43062344, 4.67066849, 4.88948961, 4.88974272, 5.07052711,\n",
       "       4.47553994, 4.65990691, 4.92797403, 5.45013787, 5.39093204,\n",
       "       4.70673915, 4.40808031, 6.08964039, 4.69462096, 4.73390975,\n",
       "       4.77761105, 4.64629104, 4.13883583, 4.89671586, 5.62386636,\n",
       "       4.98200737, 4.82782381, 5.11066163, 4.92190813, 4.40711154,\n",
       "       4.54928972, 4.76957616, 4.59550607, 4.81957325, 4.45525123,\n",
       "       6.00257837, 4.50492113, 4.84644183, 5.06500089, 4.92623275,\n",
       "       5.7733129 , 4.87731055, 5.19408129, 5.65698077, 6.3781104 ,\n",
       "       4.7610898 , 4.61451095, 5.74511316, 5.46148956, 5.0141328 ,\n",
       "       4.64746801, 4.98777622, 5.1590327 , 5.03269541, 5.52387305,\n",
       "       5.23564852, 5.64671273, 5.11430201, 4.9174395 , 4.09023587,\n",
       "       4.19733476, 5.5030003 , 5.49522656, 5.84969736, 4.38120546,\n",
       "       5.26656444, 4.51312383, 4.82675397, 5.01064009, 5.24082929,\n",
       "       5.42177078, 4.46710648, 5.18736901, 5.11833987, 5.05822682,\n",
       "       5.53616356, 4.24270615, 5.63514273, 5.02989341, 5.09525805,\n",
       "       4.90622847, 4.44505772, 4.64032944, 4.68503929, 4.42334935,\n",
       "       4.35838956, 5.07821514, 5.08430886, 4.83155113, 4.60279094,\n",
       "       5.18988617, 4.63033392, 6.05824317, 4.77604914, 4.38551846])"
      ]
     },
     "execution_count": 87,
     "metadata": {},
     "output_type": "execute_result"
    }
   ],
   "source": [
    "from scipy import stats\n",
    "np_normal_dis = np.random.normal(5, 0.5, 1000) # mean, standard deviation, number of samples\n",
    "np_normal_dis"
   ]
  },
  {
   "cell_type": "code",
   "execution_count": 88,
   "id": "951829c6",
   "metadata": {},
   "outputs": [
    {
     "name": "stdout",
     "output_type": "stream",
     "text": [
      "min:  3.595623670161415\n",
      "max:  6.539834404906203\n",
      "mean:  5.0165731822052715\n",
      "median:  5.003915707478912\n",
      "mode:  ModeResult(mode=np.float64(3.595623670161415), count=np.int64(1))\n",
      "sd:  0.48930968764643884\n"
     ]
    }
   ],
   "source": [
    "## min, max, mean, median, sd\n",
    "print('min: ', np.min(np_normal_dis))\n",
    "print('max: ', np.max(np_normal_dis))\n",
    "print('mean: ', np.mean(np_normal_dis))\n",
    "print('median: ', np.median(np_normal_dis))\n",
    "print('mode: ', stats.mode(np_normal_dis))\n",
    "print('sd: ', np.std(np_normal_dis))"
   ]
  },
  {
   "cell_type": "code",
   "execution_count": 90,
   "id": "7f5f2508",
   "metadata": {},
   "outputs": [
    {
     "data": {
      "text/plain": [
       "(array([  2.,   9.,  17.,  20.,  29.,  55.,  75., 101., 124., 116., 115.,\n",
       "         95.,  82.,  63.,  40.,  29.,  17.,   5.,   5.,   1.]),\n",
       " array([3.59562367, 3.74283421, 3.89004474, 4.03725528, 4.18446582,\n",
       "        4.33167635, 4.47888689, 4.62609743, 4.77330796, 4.9205185 ,\n",
       "        5.06772904, 5.21493957, 5.36215011, 5.50936065, 5.65657118,\n",
       "        5.80378172, 5.95099226, 6.09820279, 6.24541333, 6.39262387,\n",
       "        6.5398344 ]),\n",
       " <BarContainer object of 20 artists>)"
      ]
     },
     "execution_count": 90,
     "metadata": {},
     "output_type": "execute_result"
    },
    {
     "data": {
      "image/png": "[encoded data removed]",
      "text/plain": [
       "<Figure size 640x480 with 1 Axes>"
      ]
     },
     "metadata": {},
     "output_type": "display_data"
    }
   ],
   "source": [
    "plt.hist(np_normal_dis,color='blue',bins=20)"
   ]
  },
  {
   "cell_type": "markdown",
   "id": "21953290",
   "metadata": {},
   "source": [
    "# numpy.dot(): Dot Product in Python using Numpy\n",
    "# Dot Product\n",
    "# Numpy is powerful library for matrices computation. For instance, you can compute the dot product with np.dot\n",
    "\n",
    "# Syntax\n",
    "\n",
    "# numpy.dot(x, y, out=None)"
   ]
  },
  {
   "cell_type": "code",
   "execution_count": 91,
   "id": "76d53090",
   "metadata": {},
   "outputs": [
    {
     "data": {
      "text/plain": [
       "np.int64(23)"
      ]
     },
     "execution_count": 91,
     "metadata": {},
     "output_type": "execute_result"
    }
   ],
   "source": [
    "## Linear algebra\n",
    "### Dot product: product of two arrays\n",
    "f = np.array([1,2,3])\n",
    "g = np.array([4,5,3])\n",
    "### 1*4+2*5 + 3*6\n",
    "np.dot(f, g)  # 23"
   ]
  },
  {
   "cell_type": "code",
   "execution_count": 92,
   "id": "1766200f",
   "metadata": {},
   "outputs": [
    {
     "data": {
      "text/plain": [
       "array([[19, 22],\n",
       "       [43, 50]])"
      ]
     },
     "execution_count": 92,
     "metadata": {},
     "output_type": "execute_result"
    }
   ],
   "source": [
    "### Matmul: matruc product of two arrays\n",
    "h = [[1,2],[3,4]]\n",
    "i = [[5,6],[7,8]]\n",
    "### 1*5+2*7 = 19\n",
    "np.matmul(h, i)"
   ]
  },
  {
   "cell_type": "code",
   "execution_count": 94,
   "id": "f22d0722",
   "metadata": {},
   "outputs": [
    {
     "name": "stdout",
     "output_type": "stream",
     "text": [
      "[2, 3, 4, 5, 6, 7, 8, 9, 10, 11, 12]\n"
     ]
    }
   ],
   "source": [
    "#list comperhence\n",
    "new_list = [ x + 2 for x in range(0, 11)]\n",
    "print(new_list)"
   ]
  },
  {
   "cell_type": "code",
   "execution_count": 95,
   "id": "7ef85430",
   "metadata": {},
   "outputs": [
    {
     "data": {
      "text/plain": [
       "array([ 2,  3,  4,  5,  6,  7,  8,  9, 10, 11, 12])"
      ]
     },
     "execution_count": 95,
     "metadata": {},
     "output_type": "execute_result"
    }
   ],
   "source": [
    "np_arr = np.array(range(0, 11))\n",
    "np_arr + 2"
   ]
  },
  {
   "cell_type": "code",
   "execution_count": 97,
   "id": "f5277994",
   "metadata": {},
   "outputs": [
    {
     "data": {
      "text/plain": [
       "array([ 7,  9, 11, 13, 15])"
      ]
     },
     "execution_count": 97,
     "metadata": {},
     "output_type": "execute_result"
    }
   ],
   "source": [
    "temp = np.array([1,2,3,4,5])\n",
    "pressure = temp * 2 + 5\n",
    "pressure"
   ]
  },
  {
   "cell_type": "code",
   "execution_count": null,
   "id": "a6f79894",
   "metadata": {},
   "outputs": [],
   "source": []
  },
  {
   "cell_type": "code",
   "execution_count": 98,
   "id": "d92117d8",
   "metadata": {},
   "outputs": [
    {
     "data": {
      "image/png": "[encoded data removed]",
      "text/plain": [
       "<Figure size 640x480 with 1 Axes>"
      ]
     },
     "metadata": {},
     "output_type": "display_data"
    }
   ],
   "source": [
    "plt.plot(temp,pressure)\n",
    "plt.xlabel('Temperature in oC')\n",
    "plt.ylabel('Pressure in atm')\n",
    "plt.title('Temperature vs Pressure')\n",
    "plt.xticks(np.arange(0, 6, step=0.5))\n",
    "plt.show()"
   ]
  },
  {
   "cell_type": "code",
   "execution_count": 101,
   "id": "4bf7bac5",
   "metadata": {},
   "outputs": [
    {
     "data": {
      "image/png": "[encoded data removed]",
      "text/plain": [
       "<Figure size 640x480 with 1 Axes>"
      ]
     },
     "metadata": {},
     "output_type": "display_data"
    }
   ],
   "source": [
    "mu = 28\n",
    "sigma = 15\n",
    "samples = 100000\n",
    "\n",
    "x = np.random.normal(mu, sigma, samples)\n",
    "ax = sns.histplot(x,color='red')\n",
    "ax.set(xlabel=\"x\", ylabel='y')\n",
    "plt.show()"
   ]
  }
 ],
 "metadata": {
  "kernelspec": {
   "display_name": "myvenv",
   "language": "python",
   "name": "python3"
  },
  "language_info": {
   "codemirror_mode": {
    "name": "ipython",
    "version": 3
   },
   "file_extension": ".py",
   "mimetype": "text/x-python",
   "name": "python",
   "nbconvert_exporter": "python",
   "pygments_lexer": "ipython3",
   "version": "3.13.1"
  }
 },
 "nbformat": 4,
 "nbformat_minor": 5
}
