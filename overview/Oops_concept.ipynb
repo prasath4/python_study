{
 "cells": [
  {
   "cell_type": "markdown",
   "id": "f9cad221-5c3f-4654-961a-8ac47baee069",
   "metadata": {},
   "source": [
    "#type of functions:\n",
    ">five type there:\n",
    ">>variable,keyword,arbitary variable,arbitary keyword variable,default arguments"
   ]
  },
  {
   "cell_type": "code",
   "execution_count": 1,
   "id": "c48c9eb7-1e68-4417-aaa7-d375daac767a",
   "metadata": {},
   "outputs": [
    {
     "name": "stdout",
     "output_type": "stream",
     "text": [
      "4\n"
     ]
    }
   ],
   "source": [
    "#variable arguments\n",
    "def add(a,b):\n",
    "    print(a+b)\n",
    "add(1,3)  #function(variable values)\n",
    "    #output: 4"
   ]
  },
  {
   "cell_type": "code",
   "execution_count": 2,
   "id": "1ed1fbd8-0373-4dc1-92c7-937b639bcc37",
   "metadata": {},
   "outputs": [
    {
     "name": "stdout",
     "output_type": "stream",
     "text": [
      "4\n"
     ]
    }
   ],
   "source": [
    "#keyword arguments\n",
    "def multiply(a,b):\n",
    "    print(a*b)\n",
    "multiply(a=2,b=2) #function(keyword=values)\n",
    "    #output 4"
   ]
  },
  {
   "cell_type": "code",
   "execution_count": 3,
   "id": "97daea7c-251c-42be-b0ee-d6e1c3bfc6a3",
   "metadata": {},
   "outputs": [
    {
     "name": "stdout",
     "output_type": "stream",
     "text": [
      "(2, 3, 4, 5, 6)\n"
     ]
    }
   ],
   "source": [
    "#arbitary variable arguments\n",
    "def add(*a):\n",
    "    print(a)\n",
    "add(2,3,4,5,6) #function(*args) *args means give multiple values \n",
    "    #output (2, 3, 4, 5, 6) "
   ]
  },
  {
   "cell_type": "code",
   "execution_count": 4,
   "id": "2f88fa5b-8f09-466a-a4c1-eb01f122e15b",
   "metadata": {},
   "outputs": [
    {
     "name": "stdout",
     "output_type": "stream",
     "text": [
      "{'a': 10, 'b': 20, 'c': 30}\n"
     ]
    }
   ],
   "source": [
    "#arbitary keyword arguments\n",
    "def add(**kwargs):\n",
    "    print(kwargs)\n",
    "add(a=10,b=20,c=30) #function(**kwargs)  **kwargs means give multiple keyword and values\n",
    "    #output {'a': 10, 'b': 20, 'c': 30}"
   ]
  },
  {
   "cell_type": "code",
   "execution_count": 5,
   "id": "e98ba83c-a2ec-46fd-9cb9-fd8a8dc6e44c",
   "metadata": {},
   "outputs": [
    {
     "name": "stdout",
     "output_type": "stream",
     "text": [
      "5\n",
      "3\n"
     ]
    }
   ],
   "source": [
    "#default arguments\n",
    "def add(a=10,b=5):\n",
    "    print(a-b)\n",
    "add() #function(none) if default arguments you give the \"variable=values\" due to the function defnition\n",
    "add(5,2)  #function(values) you can give values just like variable,keyword arguments\n",
    "    #the main think is you can give the default value due to the function creation \n",
    "    #so when you call the function if you not define variable value not problem they take as default value and excute.\n",
    "\n",
    "    #output 5 3"
   ]
  },
  {
   "cell_type": "code",
   "execution_count": null,
   "id": "8d379b41-4a3e-4243-8d8b-adcf3c0453d4",
   "metadata": {},
   "outputs": [],
   "source": []
  },
  {
   "cell_type": "code",
   "execution_count": null,
   "id": "7a703815-5243-4bdf-959b-6a6dc86a985f",
   "metadata": {},
   "outputs": [],
   "source": []
  },
  {
   "cell_type": "code",
   "execution_count": 6,
   "id": "d4a6c157-6d37-4036-883e-3a502eee3f29",
   "metadata": {},
   "outputs": [],
   "source": [
    "#Oops concepts "
   ]
  },
  {
   "cell_type": "code",
   "execution_count": 7,
   "id": "ff534bae-f14d-4811-a54e-28859f4219ed",
   "metadata": {},
   "outputs": [
    {
     "name": "stdout",
     "output_type": "stream",
     "text": [
      "2+3= 5\n"
     ]
    }
   ],
   "source": [
    "#the class with init\n",
    "class calculator():\n",
    "    def __init__(self,a,b):\n",
    "        self.a=a\n",
    "        self.b=b\n",
    "    def display(self):\n",
    "        print(f'{self.a}+{self.b}=',self.a+self.b)\n",
    "obj=calculator(2,3)\n",
    "obj.display()"
   ]
  },
  {
   "cell_type": "code",
   "execution_count": 8,
   "id": "f1c8fd4d-53c5-475a-97b3-db6918597244",
   "metadata": {},
   "outputs": [
    {
     "name": "stdout",
     "output_type": "stream",
     "text": [
      "Hello!, Im prasath!\n",
      "Im from india\n"
     ]
    }
   ],
   "source": [
    "#the class without init\n",
    "class person():\n",
    "    def speak(self,name,country):\n",
    "        self.name=name\n",
    "        self.country=country\n",
    "        print(f'Hello!, Im {self.name}!')\n",
    "    def show_country(self):\n",
    "        print('Im from {}'.format(self.country))\n",
    "obj=person()\n",
    "\n",
    "\n",
    "obj.speak('prasath','india')\n",
    "obj.show_country()"
   ]
  },
  {
   "cell_type": "code",
   "execution_count": null,
   "id": "54c4f8d7-86a8-45a0-9c75-f2b7ef79d054",
   "metadata": {},
   "outputs": [],
   "source": []
  },
  {
   "cell_type": "markdown",
   "id": "bd1fbdb2-eee1-4378-a9ff-1184542421e1",
   "metadata": {},
   "source": [
    "Oops concept types or features:\n",
    "     inheritance   polymorphism   encapsulation  abstraction\n",
    ">inheritance: based on child class inherit the parent classs other word access the parent classes variables,methods.\n",
    ">>polymorphism: different classes, same name of functions, functions have different functionalities\n",
    ">>>encapsulation: simple class, binding of methods and variables together\n",
    ">>>>abstraction:blue print for all the other classes,class containing abstract method is called abstract method\n",
    ">>>>abstract method has declelartion, no implementation,create class, if you want other classess follow the same methods\n"
   ]
  },
  {
   "cell_type": "markdown",
   "id": "724e1731-bced-4a2d-a77a-4336e9c4bb58",
   "metadata": {},
   "source": [
    "inheritance:\n",
    "1.single/simple 2.multi-level  3.multiple   4.hierarchical  5.hybrid "
   ]
  },
  {
   "cell_type": "code",
   "execution_count": 9,
   "id": "9fd8ddbf-f631-4ab7-8458-64a7e6421156",
   "metadata": {},
   "outputs": [
    {
     "name": "stdout",
     "output_type": "stream",
     "text": [
      "2+4= 6\n"
     ]
    }
   ],
   "source": [
    "#single/simple inheritance\n",
    "class calculator(): #parent class  \n",
    "    def __init__(self,a,b):\n",
    "        self.a=a\n",
    "        self.b=b\n",
    "    def add(self):\n",
    "        return self.a+self.b\n",
    "class complex(calculator):   #child class\n",
    "    def display(self):\n",
    "        result=self.add()\n",
    "        print(f'{self.a}+{self.b}=',result)\n",
    "obj=complex(2,4)\n",
    "obj.display()  #2+4=6\n",
    "    "
   ]
  },
  {
   "cell_type": "code",
   "execution_count": 10,
   "id": "ee87efce-f34e-49fc-ab3c-76559010c889",
   "metadata": {},
   "outputs": [
    {
     "name": "stdout",
     "output_type": "stream",
     "text": [
      "Hi! im prasath! what is yours?\n",
      "im manish!\n",
      "hello guys im barani!\n",
      "person_A:prasath\n",
      "person_B:manish\n",
      "person_C:barani\n"
     ]
    }
   ],
   "source": [
    "#multi-level inheritance\n",
    "class person_A():   #base class\n",
    "    def __init__(self,name1,name2,name3):\n",
    "        self.name1=name1\n",
    "        self.name2=name2\n",
    "        self.name3=name3\n",
    "    def intro(self):  \n",
    "        print(f'Hi! im {self.name1}! what is yours?')\n",
    "        \n",
    "class person_B(person_A):  #derived class\n",
    "    def speak(self):\n",
    "        print(f'im {self.name2}!')\n",
    "\n",
    "class person_C(person_B):   #derived class\n",
    "    def greet(self):\n",
    "        print(f'hello guys im {self.name3}!')\n",
    "\n",
    "    def display(self):\n",
    "        print(f'person_A:{self.name1}')\n",
    "        print(f'person_B:{self.name2}')\n",
    "        print(f'person_C:{self.name3}')\n",
    "\n",
    "obj=person_C('prasath','manish','barani')\n",
    "obj.intro()\n",
    "obj.speak()\n",
    "obj.greet()\n",
    "obj.display()\n",
    "    #Hi! im prasath! what is yours?\n",
    "    #im manish!\n",
    "    #hello guys im barani!\n",
    "    #person_A:prasath\n",
    "    #person_B:manish\n",
    "    #person_C:barani\n"
   ]
  },
  {
   "cell_type": "code",
   "execution_count": 11,
   "id": "bf6da0d9-ef16-469f-a5d3-0e0395aab557",
   "metadata": {},
   "outputs": [
    {
     "name": "stdout",
     "output_type": "stream",
     "text": [
      "a=1,b=2\n",
      "c=3\n",
      "the result is: 6\n"
     ]
    }
   ],
   "source": [
    "#multiple inheritance\n",
    "class parent1():      #base class\n",
    "    def __init__(self,a,b):\n",
    "        self.a=a\n",
    "        self.b=b\n",
    "    def display(self):\n",
    "        print(f'a={self.a},b={self.b}')\n",
    "class parent2():     #base class\n",
    "    def __init__(self,c):\n",
    "        self.c=c\n",
    "    def show(self):\n",
    "        print(f'c={self.c}')\n",
    "class child(parent1,parent2):     #derived class\n",
    "    def __init__(self,a,b,c):\n",
    "        super().__init__(a,b)\n",
    "        parent2.__init__(self,c)\n",
    "    def add(self):\n",
    "        return self.a+self.b+self.c\n",
    "    def result(self):\n",
    "        print(f'the result is:',self.add())\n",
    "obj=child(1,2,3)\n",
    "obj.display()\n",
    "obj.show()\n",
    "obj.result()\n",
    "\n",
    "    #a=1,b=2\n",
    "    #c=3\n",
    "    #the result is: 6"
   ]
  },
  {
   "cell_type": "code",
   "execution_count": 12,
   "id": "1c0a663c-0b74-4644-bf83-a2faeadc5845",
   "metadata": {},
   "outputs": [
    {
     "name": "stdout",
     "output_type": "stream",
     "text": [
      "2 3\n",
      "2 3\n",
      "2+3: 5\n",
      "2-3: -1\n"
     ]
    }
   ],
   "source": [
    "#hiarchical inheritance\n",
    "class parent():    #base class\n",
    "    def __init__(self,a,b):\n",
    "        self.a=a\n",
    "        self.b=b\n",
    "        print(self.a,self.b)\n",
    "class child1(parent):   #derived class\n",
    "    def add(self):\n",
    "        result=self.a+self.b\n",
    "        print(f'{self.a}+{self.b}:',result)\n",
    "class child2(parent):    #derived class\n",
    "    def sub(self):\n",
    "        a=self.a\n",
    "        result=a-self.b\n",
    "        print(f'{a}-{self.b}:',result)\n",
    "obj1=child1(2,3)\n",
    "obj2=child2(2,3)\n",
    "obj1.add()\n",
    "obj2.sub()\n",
    "\n",
    "    #2 3\n",
    "    #2 3\n",
    "    #2+3: 5\n",
    "    #2-3: -1"
   ]
  },
  {
   "cell_type": "code",
   "execution_count": 13,
   "id": "7181b0ba-74c1-4c8c-95ee-d22b91a0656c",
   "metadata": {},
   "outputs": [
    {
     "name": "stdout",
     "output_type": "stream",
     "text": [
      "2+2: 4\n",
      "a/b: 4.5\n",
      "a//b: 4\n",
      "9\n",
      "2\n"
     ]
    }
   ],
   "source": [
    "#hybrid\n",
    "class parentA_1():  #base class - single inheritance\n",
    "    def __init__(self,a,b):\n",
    "        self.a=a\n",
    "        self.b=b\n",
    "    def add(self):\n",
    "        return self.a+self.b\n",
    "class childA_1(parentA_1):   #derived class - single inheritance\n",
    "    def add_display(self):\n",
    "        print(f'{self.a}+{self.b}:',self.add())\n",
    "        \n",
    "class parentB_1(parentA_1):   #base class - hirarchical inheritance  \n",
    "    def __init__(self,a,b):        #derived class - single inheritance -parent\n",
    "        super().__init__(a,b)\n",
    "    def div(self):\n",
    "        result=self.a/self.b\n",
    "        print('a/b:',result)\n",
    "class childB_1(parentB_1):   #derived class - hirarchical inheritance\n",
    "    def floor_div(self):\n",
    "        result=self.a//self.b\n",
    "        print('a//b:',result)\n",
    "class childB_2(parentB_1):   #derived class - hirarchical inheritance\n",
    "    def display(self):\n",
    "        print(self.a)\n",
    "        print(self.b)\n",
    "        \n",
    "\n",
    "obj1=childA_1(2,2)\n",
    "obj1.add_display()\n",
    "\n",
    "obj2=childB_1(9,2)\n",
    "obj2.div()\n",
    "obj2.floor_div()\n",
    "\n",
    "obj3=childB_2(9,2)\n",
    "obj3.display()\n",
    "\n",
    "    #2+2: 4\n",
    "    #a/b: 4.5\n",
    "    #a//b: 4\n",
    "    #9\n",
    "    #2"
   ]
  },
  {
   "cell_type": "code",
   "execution_count": null,
   "id": "99d0ce43-fde6-480f-a6ac-71628852b6d8",
   "metadata": {},
   "outputs": [],
   "source": []
  },
  {
   "cell_type": "markdown",
   "id": "da7c3451-330f-41e8-8630-86ed2a5c153f",
   "metadata": {},
   "source": [
    "#polimorphism:"
   ]
  },
  {
   "cell_type": "code",
   "execution_count": 14,
   "id": "f9efc3d1-28dd-4b88-958c-f48e404e0a3a",
   "metadata": {},
   "outputs": [
    {
     "name": "stdout",
     "output_type": "stream",
     "text": [
      "hello guys!\n",
      "bark bark\n",
      "meow meow\n"
     ]
    }
   ],
   "source": [
    "#inheritance with polimorphism\n",
    "class person():\n",
    "    def speak(self):\n",
    "        print('hello guys!')\n",
    "class dog(person):\n",
    "    def speak(self):\n",
    "        print('bark bark')\n",
    "class cat(dog):\n",
    "    def speak(self):\n",
    "        print('meow meow')\n",
    "obj1=person()\n",
    "obj1.speak()\n",
    "\n",
    "obj2=dog()\n",
    "obj2.speak()\n",
    "\n",
    "obj3=cat()\n",
    "obj3.speak()"
   ]
  },
  {
   "cell_type": "code",
   "execution_count": null,
   "id": "5d993459-e09f-439c-a616-6fabb84fa884",
   "metadata": {},
   "outputs": [],
   "source": []
  },
  {
   "cell_type": "markdown",
   "id": "4b70469f-34ec-4bb6-bb82-feee2fafb040",
   "metadata": {},
   "source": [
    "#encapsulation  \n",
    ">1.public 2.private 3.protected\n"
   ]
  },
  {
   "cell_type": "code",
   "execution_count": 15,
   "id": "deb6dd3d-ba2d-4186-878d-e70d006299ad",
   "metadata": {},
   "outputs": [
    {
     "name": "stdout",
     "output_type": "stream",
     "text": [
      "the result is: 6\n",
      "Public: 1, Private: 2, Protected: 3\n"
     ]
    }
   ],
   "source": [
    "class A():\n",
    "    def __init__(self,a,b,c):\n",
    "        self.a=a  #public\n",
    "        self.__b=b  #private\n",
    "        self._c=c  #protected\n",
    "class B(A):\n",
    "    def __init__(self,a,b,c):\n",
    "        super().__init__(a,b,c)\n",
    "    def display(self):\n",
    "        print(f'Public: {self.a}, Private: {self._A__b}, Protected: {self._c}')\n",
    "class C(B):\n",
    "    def __init__(self,a,b,c):\n",
    "        super().__init__(a,b,c)\n",
    "    def add(self):\n",
    "        result=self.a+self._A__b+self._c\n",
    "        print('the result is:',result)\n",
    "\n",
    "obj=C(1,2,3)\n",
    "obj.add()\n",
    "obj.display()\n",
    "    "
   ]
  },
  {
   "cell_type": "code",
   "execution_count": 16,
   "id": "4daaa0dd-c2aa-4d29-97c8-f34a74226d29",
   "metadata": {},
   "outputs": [
    {
     "name": "stdout",
     "output_type": "stream",
     "text": [
      "the creditcard amount is:1000\n",
      "the upi amount is:2000\n"
     ]
    }
   ],
   "source": [
    "#abstract\n",
    "from abc import ABC,abstractmethod\n",
    "\n",
    "class payment(ABC): #abstract class\n",
    "    @abstractmethod\n",
    "    def payment_process(self,amount): #abstract method\n",
    "        pass\n",
    "class creditcard_payment_process(payment):\n",
    "    def payment_process(self,amount):\n",
    "        print(f'the creditcard amount is:{amount}')\n",
    "class upi_payment_process(payment):\n",
    "    def payment_process(self,amount):\n",
    "        print(f'the upi amount is:{amount}')\n",
    "bank_balance=creditcard_payment_process()\n",
    "bank_balance.payment_process(1000)\n",
    "\n",
    "upi_balance=upi_payment_process()\n",
    "upi_balance.payment_process(2000)"
   ]
  },
  {
   "cell_type": "code",
   "execution_count": null,
   "id": "2be42029-400a-4595-849b-114061105a38",
   "metadata": {},
   "outputs": [],
   "source": []
  }
 ],
 "metadata": {
  "kernelspec": {
   "display_name": "Python 3 (ipykernel)",
   "language": "python",
   "name": "python3"
  },
  "language_info": {
   "codemirror_mode": {
    "name": "ipython",
    "version": 3
   },
   "file_extension": ".py",
   "mimetype": "text/x-python",
   "name": "python",
   "nbconvert_exporter": "python",
   "pygments_lexer": "ipython3",
   "version": "3.11.9"
  }
 },
 "nbformat": 4,
 "nbformat_minor": 5
}
