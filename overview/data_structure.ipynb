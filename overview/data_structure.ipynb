{
 "cells": [
  {
   "cell_type": "markdown",
   "id": "d197e053-67b6-4fd5-be35-179c69d5551a",
   "metadata": {},
   "source": [
    "#The Data structure of python"
   ]
  },
  {
   "cell_type": "code",
   "execution_count": 87,
   "id": "a026f2ea-f55c-4e8a-bf39-d84c0edf888a",
   "metadata": {},
   "outputs": [
    {
     "name": "stdout",
     "output_type": "stream",
     "text": [
      "Hello this is nothing\n"
     ]
    }
   ],
   "source": [
    "print('Hello this is nothing') #return Hello this is nothing"
   ]
  },
  {
   "cell_type": "markdown",
   "id": "12997fb8-c8ca-46ad-b610-7f49b0c903d5",
   "metadata": {},
   "source": [
    "#list in python\n",
    ">-allow duplicates,[],ordered"
   ]
  },
  {
   "cell_type": "code",
   "execution_count": 88,
   "id": "694eecb1-8ca2-4b0f-89bb-e0d0035ea8a2",
   "metadata": {},
   "outputs": [
    {
     "name": "stdout",
     "output_type": "stream",
     "text": [
      "[1, 2, -1, 0, 'string', True]\n"
     ]
    }
   ],
   "source": [
    "l=[1,2,-1,0,'string',True]\n",
    "print(l)  #return [1, 2, -1, 0, 'string', True]"
   ]
  },
  {
   "cell_type": "code",
   "execution_count": 89,
   "id": "40fa3301-cbc7-4083-85ca-36dd4fbfa77b",
   "metadata": {},
   "outputs": [
    {
     "name": "stdout",
     "output_type": "stream",
     "text": [
      "[1, 2, -1, 0, 'string', True, 4.5j]\n"
     ]
    }
   ],
   "source": [
    "l.append(4.5j)\n",
    "print(l) #return [1, 2, -1, 0, 'string', True, 4.5j]"
   ]
  },
  {
   "cell_type": "code",
   "execution_count": 90,
   "id": "4a6f0cff-6220-4beb-b596-e98c9e505492",
   "metadata": {},
   "outputs": [
    {
     "name": "stdout",
     "output_type": "stream",
     "text": [
      "[1, 1, 2, -1, 0, 'string', True, 4.5j]\n"
     ]
    }
   ],
   "source": [
    "l.insert(1,1)\n",
    "print(l) #retrun [1, 1, 2, -1, 0, 'string', True, 4.5j]"
   ]
  },
  {
   "cell_type": "code",
   "execution_count": 91,
   "id": "cd8dddc3-48b6-4735-b2ea-e49a75971134",
   "metadata": {},
   "outputs": [
    {
     "name": "stdout",
     "output_type": "stream",
     "text": [
      "[1, 1, 2, -1, 0, 'string', True]\n"
     ]
    }
   ],
   "source": [
    "l.pop()\n",
    "print(l) #return [1, 1, 2, -1, 0, 'string', True]"
   ]
  },
  {
   "cell_type": "code",
   "execution_count": 92,
   "id": "c47678dc-714d-4cce-b9e4-25d47f5c9120",
   "metadata": {},
   "outputs": [
    {
     "name": "stdout",
     "output_type": "stream",
     "text": [
      "True\n"
     ]
    }
   ],
   "source": [
    "print(l.pop())   #inline short code return True"
   ]
  },
  {
   "cell_type": "code",
   "execution_count": 93,
   "id": "6f141ba4-2265-4c92-bfcb-fdd82294afbb",
   "metadata": {},
   "outputs": [
    {
     "name": "stdout",
     "output_type": "stream",
     "text": [
      "[1, 2, -1, 0, 'string']\n"
     ]
    }
   ],
   "source": [
    "l.pop(1)\n",
    "print(l) #return [1, 2, -1, 0, 'string']"
   ]
  },
  {
   "cell_type": "code",
   "execution_count": 94,
   "id": "6cfcfa0f-e2b8-45e7-a3e6-726629bf906b",
   "metadata": {},
   "outputs": [
    {
     "name": "stdout",
     "output_type": "stream",
     "text": [
      "[1, 2, -1, 0, 'string', 'string', True]\n"
     ]
    }
   ],
   "source": [
    "l.extend(['string',True])\n",
    "print(l) #return [1, 2, -1, 0, 'string', 'string', True]"
   ]
  },
  {
   "cell_type": "code",
   "execution_count": 95,
   "id": "6f0f1393-5ee4-495c-a843-6b281330e1cf",
   "metadata": {},
   "outputs": [
    {
     "name": "stdout",
     "output_type": "stream",
     "text": [
      "[2, -1, 0, 'string', 'string', True]\n"
     ]
    }
   ],
   "source": [
    "l.remove(1)\n",
    "print(l) #return [2, -1, 0, 'string', 'string', True]"
   ]
  },
  {
   "cell_type": "code",
   "execution_count": 96,
   "id": "c029de23-1176-4f73-9797-88c49cdd1cbf",
   "metadata": {},
   "outputs": [
    {
     "name": "stdout",
     "output_type": "stream",
     "text": [
      "2\n"
     ]
    }
   ],
   "source": [
    "print(l.count('string')) #return 2"
   ]
  },
  {
   "cell_type": "code",
   "execution_count": 97,
   "id": "c20a419b-6253-4af3-9059-63f2888ed932",
   "metadata": {},
   "outputs": [
    {
     "ename": "TypeError",
     "evalue": "'<' not supported between instances of 'str' and 'int'",
     "output_type": "error",
     "traceback": [
      "\u001b[1;31m---------------------------------------------------------------------------\u001b[0m",
      "\u001b[1;31mTypeError\u001b[0m                                 Traceback (most recent call last)",
      "Cell \u001b[1;32mIn[97], line 1\u001b[0m\n\u001b[1;32m----> 1\u001b[0m \u001b[38;5;28mprint\u001b[39m(\u001b[43ml\u001b[49m\u001b[38;5;241;43m.\u001b[39;49m\u001b[43msort\u001b[49m\u001b[43m(\u001b[49m\u001b[43m)\u001b[49m)\n\u001b[0;32m      2\u001b[0m \u001b[38;5;66;03m#return\u001b[39;00m\n\u001b[0;32m      3\u001b[0m \u001b[38;5;66;03m#TypeError: '<' not supported between instances of 'str' and 'int'\u001b[39;00m\n",
      "\u001b[1;31mTypeError\u001b[0m: '<' not supported between instances of 'str' and 'int'"
     ]
    }
   ],
   "source": [
    "print(l.sort())\n",
    "#return\n",
    "#TypeError: '<' not supported between instances of 'str' and 'int'"
   ]
  },
  {
   "cell_type": "markdown",
   "id": "5876c071-ab9e-4a68-9c00-a53e221dc77d",
   "metadata": {},
   "source": [
    "#here is the think,in list when you have only int or string at the time the sort is possible "
   ]
  },
  {
   "cell_type": "code",
   "execution_count": 98,
   "id": "8b31387d-bbab-47ab-8504-bce9ed917146",
   "metadata": {},
   "outputs": [
    {
     "name": "stdout",
     "output_type": "stream",
     "text": [
      "None\n"
     ]
    }
   ],
   "source": [
    "print(l.reverse())  #if you write the method like that,when the method have to retrun true or return something, \n",
    "    #if it is not return you write the code below\n",
    "    #return None"
   ]
  },
  {
   "cell_type": "code",
   "execution_count": 99,
   "id": "a0ccb37f-6036-4471-a688-78cb3d906db5",
   "metadata": {},
   "outputs": [
    {
     "name": "stdout",
     "output_type": "stream",
     "text": [
      "[-1, 0, 2, 'string', 'string', True]\n"
     ]
    }
   ],
   "source": [
    "l.reverse()\n",
    "print(l) #return [True, 'string', 'string', 2, 0, -1]"
   ]
  },
  {
   "cell_type": "code",
   "execution_count": 100,
   "id": "decef49d-da9c-496d-a3fd-ec7bc1d630cc",
   "metadata": {},
   "outputs": [
    {
     "name": "stdout",
     "output_type": "stream",
     "text": [
      "[-1, 0, 2, 'string', 'string', True]\n"
     ]
    }
   ],
   "source": [
    "l1=l.copy()\n",
    "print(l1) #return [True, 'string', 'string', 2, 0, -1]"
   ]
  },
  {
   "cell_type": "code",
   "execution_count": 101,
   "id": "7104f70d-1d1d-4a74-b552-d345ae1b4829",
   "metadata": {},
   "outputs": [
    {
     "name": "stdout",
     "output_type": "stream",
     "text": [
      "[]\n"
     ]
    }
   ],
   "source": [
    "l1.clear()\n",
    "print(l1) #return []"
   ]
  },
  {
   "cell_type": "code",
   "execution_count": null,
   "id": "3d965bc4-4a7e-4afa-9de1-15c5a3225a69",
   "metadata": {},
   "outputs": [],
   "source": []
  },
  {
   "cell_type": "code",
   "execution_count": null,
   "id": "bd36e61e-720c-4768-81bd-d3786382e8c4",
   "metadata": {},
   "outputs": [],
   "source": []
  },
  {
   "cell_type": "markdown",
   "id": "a340a496-1a0c-4c43-a4de-320a78c3a887",
   "metadata": {},
   "source": [
    "#sets in python\n",
    ">{},unordered,no duplicates\n",
    ">A set in Python is an unordered collection of unique items. It is commonly used when you want to store distinct elements and perform operations like union, intersection, and difference efficiently."
   ]
  },
  {
   "cell_type": "code",
   "execution_count": 102,
   "id": "b2e6ed52-b82a-4425-ba02-475ba4597b45",
   "metadata": {},
   "outputs": [
    {
     "name": "stdout",
     "output_type": "stream",
     "text": [
      "{1, 3, 5, 4j, -1, 'String'}\n"
     ]
    }
   ],
   "source": [
    "s={1,3,5,-1,4.j,True,'String'}\n",
    "print(s) #return {1, 3, 5, 4j, -1, 'String'}"
   ]
  },
  {
   "cell_type": "code",
   "execution_count": 103,
   "id": "747cd785-1629-4e76-857b-d8e2ae9d6736",
   "metadata": {},
   "outputs": [
    {
     "name": "stdout",
     "output_type": "stream",
     "text": [
      "{1, 2, 3, 5, 4j, -1, 'String'}\n"
     ]
    }
   ],
   "source": [
    "s.add(2)\n",
    "print(s) #return {1, 2, 3, 5, 4j, -1, 'String'}"
   ]
  },
  {
   "cell_type": "code",
   "execution_count": 104,
   "id": "e24e5af7-887b-4257-9f64-798970afd7ea",
   "metadata": {},
   "outputs": [
    {
     "name": "stdout",
     "output_type": "stream",
     "text": [
      "{2, 3, 5, 4j, -1, 'String'}\n"
     ]
    }
   ],
   "source": [
    "s.pop()\n",
    "print(s) #return {2, 3, 5, 4j, -1, 'String'}"
   ]
  },
  {
   "cell_type": "code",
   "execution_count": 105,
   "id": "48b78e1a-977e-4c55-9ba1-19ccb3ec274d",
   "metadata": {},
   "outputs": [
    {
     "name": "stdout",
     "output_type": "stream",
     "text": [
      "{3, 5, 4j, -1, 'String'}\n"
     ]
    }
   ],
   "source": [
    "s.remove(2)\n",
    "print(s) #return {3, 5, 4j, -1, 'String'}"
   ]
  },
  {
   "cell_type": "code",
   "execution_count": 106,
   "id": "ba07ed6b-48ce-4753-b782-53c5d2abd2e4",
   "metadata": {},
   "outputs": [
    {
     "name": "stdout",
     "output_type": "stream",
     "text": [
      "{3, 5, 4j, -1, 'String'}\n"
     ]
    }
   ],
   "source": [
    "s.discard(2)\n",
    "print(s) #return {3, 5, 4j, -1, 'String'}"
   ]
  },
  {
   "cell_type": "markdown",
   "id": "e702d7f0-8c9b-46cd-bbc1-a4aee2957868",
   "metadata": {},
   "source": [
    "member check"
   ]
  },
  {
   "cell_type": "code",
   "execution_count": 107,
   "id": "7ef2776b-15e4-481d-be22-116a18cb0624",
   "metadata": {},
   "outputs": [
    {
     "name": "stdout",
     "output_type": "stream",
     "text": [
      "True\n"
     ]
    }
   ],
   "source": [
    "print(3 in s) #return True"
   ]
  },
  {
   "cell_type": "code",
   "execution_count": 108,
   "id": "169c2aa0-986e-4575-93fe-ab9920e2874f",
   "metadata": {},
   "outputs": [
    {
     "name": "stdout",
     "output_type": "stream",
     "text": [
      "{1, 2, 3, 4, 5, 6, 7}\n",
      "{1, 2, 3, 4, 5, 6, 7}\n"
     ]
    }
   ],
   "source": [
    "set1={1,2,3,4}\n",
    "set2={4,5,6,7}\n",
    "print(set1.union(set2))\n",
    "    #another way of union\n",
    "print(set1 | set2)  #return {1, 2, 3, 4, 5, 6, 7}\n",
    "                            #{1, 2, 3, 4, 5, 6, 7} "
   ]
  },
  {
   "cell_type": "code",
   "execution_count": 109,
   "id": "dec7aa14-4448-43e5-b733-359fbd767499",
   "metadata": {},
   "outputs": [
    {
     "name": "stdout",
     "output_type": "stream",
     "text": [
      "{4}\n",
      "{4}\n"
     ]
    }
   ],
   "source": [
    "print(set1 & set2)\n",
    "print(set1.intersection(set2))\n",
    "#return {4} {4}"
   ]
  },
  {
   "cell_type": "code",
   "execution_count": 110,
   "id": "c97d883e-4b98-4279-87ed-efd6317d8a32",
   "metadata": {},
   "outputs": [
    {
     "name": "stdout",
     "output_type": "stream",
     "text": [
      "{1, 2, 3}\n",
      "{1, 2, 3}\n",
      "{5, 6, 7}\n"
     ]
    }
   ],
   "source": [
    "print(set1 - set2)\n",
    "print(set1.difference(set2))\n",
    "print(set2.difference(set1))\n",
    "# return {1, 2, 3}\n",
    "#{1, 2, 3}\n",
    "#{5, 6, 7}"
   ]
  },
  {
   "cell_type": "code",
   "execution_count": 111,
   "id": "682f3560-00ef-46b0-b47f-2e27f49f63ef",
   "metadata": {},
   "outputs": [
    {
     "name": "stdout",
     "output_type": "stream",
     "text": [
      "{1, 2, 3, 5, 6, 7}\n",
      "{1, 2, 3, 5, 6, 7}\n"
     ]
    }
   ],
   "source": [
    "print(set1 ^ set2)\n",
    "print(set1.symmetric_difference(set2))  #opposition of intersection, intersection output:4\n",
    "#return {1, 2, 3, 5, 6, 7}\n",
    "#{1, 2, 3, 5, 6, 7}"
   ]
  },
  {
   "cell_type": "markdown",
   "id": "a505d98c-8adc-4575-80dd-6e50d6fb0317",
   "metadata": {},
   "source": [
    "previous methods union, intersection,difference,symmetric_difference\n",
    "> you can update the set using \"_update\" along with the function\n",
    "> Example:\n",
    "> union_update()  - once update the set, The value of set updated "
   ]
  },
  {
   "cell_type": "code",
   "execution_count": 112,
   "id": "1702cd63-e852-47b6-9015-2c6e22520ebd",
   "metadata": {},
   "outputs": [
    {
     "name": "stdout",
     "output_type": "stream",
     "text": [
      "{1, 2, 3, 4} {4, 5, 6, 7}\n"
     ]
    }
   ],
   "source": [
    "print(set1,set2) #return {1, 2, 3, 4} {4, 5, 6, 7}"
   ]
  },
  {
   "cell_type": "code",
   "execution_count": 113,
   "id": "feae2cef-2110-4338-893b-ee62a67aa2c5",
   "metadata": {},
   "outputs": [
    {
     "name": "stdout",
     "output_type": "stream",
     "text": [
      "False\n"
     ]
    }
   ],
   "source": [
    "print(set1.isdisjoint(set2))  #return False"
   ]
  },
  {
   "cell_type": "markdown",
   "id": "a57ded9e-d107-45ac-ade8-0fbd5183654e",
   "metadata": {},
   "source": [
    "The method \"set1.isdisjoint(set2)\" checks whether the two sets, set1 and set2, have no elements in common. If they share at least one element, it returns False."
   ]
  },
  {
   "cell_type": "code",
   "execution_count": 114,
   "id": "32bfcc25-49ec-4a59-8310-78bada4d8070",
   "metadata": {},
   "outputs": [
    {
     "name": "stdout",
     "output_type": "stream",
     "text": [
      "{1, 2, 3}\n"
     ]
    }
   ],
   "source": [
    "set1.remove(4)\n",
    "print(set1) #return {1, 2, 3}"
   ]
  },
  {
   "cell_type": "markdown",
   "id": "988a0507-cc8b-4f7e-83af-adbb801e714a",
   "metadata": {},
   "source": [
    "after the remove the common element 4, the result"
   ]
  },
  {
   "cell_type": "code",
   "execution_count": 115,
   "id": "deff487e-7956-4770-b68f-a7d267bd5c5b",
   "metadata": {},
   "outputs": [
    {
     "name": "stdout",
     "output_type": "stream",
     "text": [
      "True\n"
     ]
    }
   ],
   "source": [
    "print(set1.isdisjoint(set2)) #return True"
   ]
  },
  {
   "cell_type": "code",
   "execution_count": 116,
   "id": "624d7be6-c790-43a5-98e1-2f507fbbf7bd",
   "metadata": {},
   "outputs": [
    {
     "name": "stdout",
     "output_type": "stream",
     "text": [
      "False\n",
      "False\n"
     ]
    }
   ],
   "source": [
    "print(set1.issuperset(set2)) #False\n",
    "print(set1.issubset(set2)) #False"
   ]
  },
  {
   "cell_type": "markdown",
   "id": "efc0d8d2-d455-4537-83f6-1d213efceda6",
   "metadata": {},
   "source": [
    "If A = {1, 2} and B = {1, 2, 3, 4}:\n",
    ">Subset: A is a subset of B (all elements of A are in B).\n",
    ">Superset: B is a superset of A (all elements of A are in B).\n",
    ">if it is not retrun false"
   ]
  },
  {
   "cell_type": "code",
   "execution_count": 117,
   "id": "48f749ff-c43b-48d0-a3ef-fe91d9460ba8",
   "metadata": {},
   "outputs": [
    {
     "name": "stdout",
     "output_type": "stream",
     "text": [
      "{1, 2} {1, 2, 3, 4}\n"
     ]
    }
   ],
   "source": [
    "A = {1, 2}\n",
    "B = {1, 2, 3, 4}\n",
    "print(A,B) #{1, 2} {1, 2, 3, 4}\n"
   ]
  },
  {
   "cell_type": "code",
   "execution_count": 118,
   "id": "f3cb3279-9316-4dfd-b00b-1dcad5145118",
   "metadata": {},
   "outputs": [
    {
     "name": "stdout",
     "output_type": "stream",
     "text": [
      "True\n",
      "True\n",
      "False\n",
      "False\n"
     ]
    }
   ],
   "source": [
    "print(A <= B) #issubset() #return True\n",
    "print(B >= A) #issuperset() #return True\n",
    "\n",
    "print(B.issubset(A)) #return False\n",
    "print(A.issuperset(B)) #return False\n"
   ]
  },
  {
   "cell_type": "markdown",
   "id": "53ba51c2-943d-486a-82b0-bb6886246f0f",
   "metadata": {},
   "source": [
    "Frozen Sets\n",
    "A frozenset is an immutable version of a set. Once created, you cannot modify it."
   ]
  },
  {
   "cell_type": "code",
   "execution_count": 121,
   "id": "d31cabe5-21e5-47dd-836a-c7283374392d",
   "metadata": {},
   "outputs": [
    {
     "name": "stdout",
     "output_type": "stream",
     "text": [
      "frozenset({1, 2, 3})\n"
     ]
    }
   ],
   "source": [
    "frozen = frozenset([1, 2, 3])\n",
    "print(frozen)  # Output: frozenset({1, 2, 3})"
   ]
  },
  {
   "cell_type": "code",
   "execution_count": null,
   "id": "444acace-3e02-473f-a68a-6ed5f9cdc22b",
   "metadata": {},
   "outputs": [],
   "source": []
  },
  {
   "cell_type": "code",
   "execution_count": null,
   "id": "8dee59b1-8ae9-461e-abcc-7434a9de042f",
   "metadata": {},
   "outputs": [],
   "source": []
  },
  {
   "cell_type": "markdown",
   "id": "f9b4f6d8-7420-42b3-8c74-b4532fcfcab1",
   "metadata": {},
   "source": [
    "tuple in python\n",
    ">(),duplicates,unchangeable or immutable\n",
    ">>A tuple is an immutable, ordered collection of elements in Python. It is similar to a list, but tuples cannot be modified after creation, making them useful for storing data that should not change."
   ]
  },
  {
   "cell_type": "code",
   "execution_count": 122,
   "id": "540354ec-3ac2-4eb6-80c3-8a1f55625fb4",
   "metadata": {},
   "outputs": [
    {
     "name": "stdout",
     "output_type": "stream",
     "text": [
      "(1, 2, 5, -1, 2, True, 'String')\n"
     ]
    }
   ],
   "source": [
    "t=(1,2,5,-1,2,True,'String')\n",
    "print(t) #(1, 2, 5, -1, 2, True, 'String')"
   ]
  },
  {
   "cell_type": "code",
   "execution_count": 124,
   "id": "59c41d7d-19ef-4315-ae3c-50db3e557289",
   "metadata": {},
   "outputs": [
    {
     "name": "stdout",
     "output_type": "stream",
     "text": [
      "(1, 2, 3)\n"
     ]
    }
   ],
   "source": [
    "t1=1,2,3   #Parentheses are optional when defining a tuple with commas.\n",
    "print(t1) #(1,2,3)"
   ]
  },
  {
   "cell_type": "markdown",
   "id": "ea483001-613d-487d-a995-f2cd611d3cfa",
   "metadata": {},
   "source": [
    "Tuple Methods\n",
    ">Tuples have only two built-in methods due to their immutability:count(),index()"
   ]
  },
  {
   "cell_type": "code",
   "execution_count": 127,
   "id": "2dfa3570-e26c-457b-a860-0fefb15032f9",
   "metadata": {},
   "outputs": [
    {
     "name": "stdout",
     "output_type": "stream",
     "text": [
      "2\n"
     ]
    }
   ],
   "source": [
    "print(t.count(2)) #2"
   ]
  },
  {
   "cell_type": "code",
   "execution_count": 128,
   "id": "a836f322-7c50-4e1c-b4b3-b1f73a90bb4f",
   "metadata": {},
   "outputs": [
    {
     "name": "stdout",
     "output_type": "stream",
     "text": [
      "1\n"
     ]
    }
   ],
   "source": [
    "print(t.index(2)) #1"
   ]
  },
  {
   "cell_type": "markdown",
   "id": "0cf8aff2-6d15-4b79-9a8e-2e9e6d96733f",
   "metadata": {},
   "source": [
    "#Tuple Unpacking\n",
    ">You can assign tuple elements to variables directly."
   ]
  },
  {
   "cell_type": "code",
   "execution_count": 129,
   "id": "fc2bd8ae-8221-4a32-8da1-91ed7b42ed45",
   "metadata": {},
   "outputs": [
    {
     "name": "stdout",
     "output_type": "stream",
     "text": [
      "10 20 30\n"
     ]
    }
   ],
   "source": [
    "my_tuple = (10, 20, 30)\n",
    "a, b, c = my_tuple\n",
    "print(a, b, c)  # Output: 10 20 30\n"
   ]
  },
  {
   "cell_type": "code",
   "execution_count": 2,
   "id": "b02789c3-9d7d-4200-9373-739a46f0ef6a",
   "metadata": {},
   "outputs": [
    {
     "name": "stdout",
     "output_type": "stream",
     "text": [
      "(1, 2, 3, 4)\n",
      "(1, 2, 1, 2)\n"
     ]
    }
   ],
   "source": [
    "tuple1 = (1, 2)\n",
    "tuple2 = (3, 4)\n",
    "result = tuple1 + tuple2 #concatinate\n",
    "result1=tuple1*2 #repetition\n",
    "print(result)  # Output: (1, 2, 3, 4)\n",
    "print(result1) #output (1, 2, 1, 2)\n"
   ]
  },
  {
   "cell_type": "code",
   "execution_count": null,
   "id": "bd2ec7f2-bf28-46df-a6bf-adbbbcb88b87",
   "metadata": {},
   "outputs": [],
   "source": []
  }
 ],
 "metadata": {
  "kernelspec": {
   "display_name": "Python 3 (ipykernel)",
   "language": "python",
   "name": "python3"
  },
  "language_info": {
   "codemirror_mode": {
    "name": "ipython",
    "version": 3
   },
   "file_extension": ".py",
   "mimetype": "text/x-python",
   "name": "python",
   "nbconvert_exporter": "python",
   "pygments_lexer": "ipython3",
   "version": "3.11.9"
  }
 },
 "nbformat": 4,
 "nbformat_minor": 5
}
