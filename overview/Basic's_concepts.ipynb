{
 "cells": [
  {
   "cell_type": "markdown",
   "id": "a0d5fb12-b82e-4e90-ac91-fc0581db9b96",
   "metadata": {},
   "source": [
    "#if Statement\n",
    ">The if statement allows decision-making in your code based on conditions."
   ]
  },
  {
   "cell_type": "markdown",
   "id": "d1beb637-859d-46df-9b03-a43da9fb4608",
   "metadata": {},
   "source": [
    "#syntax : if condition:\n",
    ">code to execute if it is true\n",
    ">>simple concept of if"
   ]
  },
  {
   "cell_type": "code",
   "execution_count": 1,
   "id": "e88ef7ce-12e5-49e8-8442-d560e98eb85c",
   "metadata": {},
   "outputs": [
    {
     "name": "stdout",
     "output_type": "stream",
     "text": [
      "10 is greater than 5\n"
     ]
    }
   ],
   "source": [
    "x=10\n",
    "if x>5:\n",
    "    print(f'{x} is greater than 5')\n",
    "    "
   ]
  },
  {
   "cell_type": "markdown",
   "id": "d0759186-200c-41b6-8615-34aa862504ef",
   "metadata": {},
   "source": [
    "#complex concept:using elif and else"
   ]
  },
  {
   "cell_type": "code",
   "execution_count": 2,
   "id": "7346a8c5-e94a-44cf-8908-e0624adcaf2c",
   "metadata": {},
   "outputs": [
    {
     "name": "stdout",
     "output_type": "stream",
     "text": [
      "10 is equals to 10\n"
     ]
    }
   ],
   "source": [
    "x=10\n",
    "if x>10:\n",
    "    print(f'{x} is greater than 10')\n",
    "elif x == 10:\n",
    "    print(f'{x} is equals to 10')\n",
    "else:\n",
    "    print(f'{x} is less than 10')\n"
   ]
  },
  {
   "cell_type": "markdown",
   "id": "a9a21d70-6446-4a57-b8c9-d6c4760c2bbb",
   "metadata": {},
   "source": [
    "#Nested if:\n",
    ">You can nest if statements inside one another."
   ]
  },
  {
   "cell_type": "code",
   "execution_count": 4,
   "id": "c0e19aac-fed9-4b77-9bf4-e6e192773dca",
   "metadata": {},
   "outputs": [
    {
     "name": "stdout",
     "output_type": "stream",
     "text": [
      "20 is between 10 and 30\n"
     ]
    }
   ],
   "source": [
    "x = 20\n",
    "if x > 10:\n",
    "    if x < 30:\n",
    "        print(f\"{x} is between 10 and 30\")\n"
   ]
  },
  {
   "cell_type": "markdown",
   "id": "674a6575-a648-4986-a9fc-eb5718052daa",
   "metadata": {},
   "source": [
    "#Short-Hand if (One-liner)"
   ]
  },
  {
   "cell_type": "code",
   "execution_count": 5,
   "id": "dd4657ec-3ba7-40fd-84b3-25f384ca26b5",
   "metadata": {},
   "outputs": [
    {
     "name": "stdout",
     "output_type": "stream",
     "text": [
      "10 is greater than 5\n"
     ]
    }
   ],
   "source": [
    "x=10\n",
    "if x>5: print(f'{x} is greater than 5')"
   ]
  },
  {
   "cell_type": "markdown",
   "id": "6b42d3c0-2d11-4596-82ad-3d0d00aaf3e0",
   "metadata": {},
   "source": [
    ">if conditions, you can simplify using early return statements in functions."
   ]
  },
  {
   "cell_type": "code",
   "execution_count": null,
   "id": "f8323781-5759-41d3-a2c9-c289ff633051",
   "metadata": {},
   "outputs": [],
   "source": []
  },
  {
   "cell_type": "markdown",
   "id": "717d6d9f-dfb5-4d40-b450-a8b5445d4d04",
   "metadata": {},
   "source": [
    "#ternary operator using if statement\n",
    ">value = true_value if condition else false_value\n"
   ]
  },
  {
   "cell_type": "code",
   "execution_count": 9,
   "id": "7ac25ae6-1589-4c56-aad7-83287f522433",
   "metadata": {},
   "outputs": [
    {
     "name": "stdout",
     "output_type": "stream",
     "text": [
      "greater than 5\n"
     ]
    }
   ],
   "source": [
    "x=10\n",
    "result='greater than 5' if x>5 else 'less than or equal to 5' \n",
    "print(result)"
   ]
  },
  {
   "cell_type": "markdown",
   "id": "6d20e0f2-d317-42e3-a92f-3f4699a6b607",
   "metadata": {},
   "source": [
    "Unlike other languages, Python doesn't use ? or : for the ternary operation. Instead, it uses the if and else keywords for better readability."
   ]
  },
  {
   "cell_type": "code",
   "execution_count": null,
   "id": "cbe7f2c6-8955-4fd1-94db-cf24837abf86",
   "metadata": {},
   "outputs": [],
   "source": []
  },
  {
   "cell_type": "markdown",
   "id": "efb7ce56-e810-487e-b9ac-b82750d59302",
   "metadata": {},
   "source": [
    "You can use logical operators like and and or to replace simple if statements."
   ]
  },
  {
   "cell_type": "code",
   "execution_count": 10,
   "id": "3fa6572d-9bfb-4e40-8b6c-a2bbb098fc85",
   "metadata": {},
   "outputs": [
    {
     "name": "stdout",
     "output_type": "stream",
     "text": [
      "10 is greater than 5\n"
     ]
    }
   ],
   "source": [
    "x=10 \n",
    "x>5 and print(f'{x} is greater than 5')"
   ]
  },
  {
   "cell_type": "markdown",
   "id": "a8081436-8f06-46e5-84b0-55dbc894e41b",
   "metadata": {},
   "source": [
    "#lambda arguments: expression\n",
    ">Arguments: Input values.\n",
    ">>Expression: A single line of logic that is evaluated and returned.\n"
   ]
  },
  {
   "cell_type": "code",
   "execution_count": 15,
   "id": "18629818-f23c-47b7-9523-ab394ff44911",
   "metadata": {},
   "outputs": [
    {
     "name": "stdout",
     "output_type": "stream",
     "text": [
      "9\n"
     ]
    }
   ],
   "source": [
    "square=lambda x:x**2\n",
    "print(square(3))  #lambda Functions single argument"
   ]
  },
  {
   "cell_type": "code",
   "execution_count": 17,
   "id": "93d30fe7-1799-4987-a9d2-ffc2f49b9b24",
   "metadata": {},
   "outputs": [
    {
     "name": "stdout",
     "output_type": "stream",
     "text": [
      "5\n"
     ]
    }
   ],
   "source": [
    "add=lambda x,y:x+y\n",
    "print(add(2,3)) #lambda function multiple arguments"
   ]
  },
  {
   "cell_type": "code",
   "execution_count": 18,
   "id": "3a8e72f0-1297-4ba5-b6f7-c5b656c60c98",
   "metadata": {},
   "outputs": [
    {
     "name": "stdout",
     "output_type": "stream",
     "text": [
      "125\n"
     ]
    }
   ],
   "source": [
    "print((lambda x: x ** 3)(5))  # Output: 125\n",
    "#inline function"
   ]
  },
  {
   "cell_type": "code",
   "execution_count": null,
   "id": "5d2962b0-8de1-4e6a-8c75-4deb21e32cc5",
   "metadata": {},
   "outputs": [],
   "source": []
  },
  {
   "cell_type": "markdown",
   "id": "9cd533b9-b601-4f45-8ae6-f70d3e4efa4e",
   "metadata": {},
   "source": [
    "#for loop"
   ]
  },
  {
   "cell_type": "code",
   "execution_count": 1,
   "id": "dabbbc81-dfe5-4a80-a246-7b989bffb192",
   "metadata": {},
   "outputs": [
    {
     "name": "stdout",
     "output_type": "stream",
     "text": [
      "0\n",
      "1\n",
      "2\n",
      "3\n",
      "4\n",
      "5\n",
      "6\n",
      "7\n",
      "8\n",
      "9\n"
     ]
    }
   ],
   "source": [
    "for i in range(0,10):\n",
    "    print(i)"
   ]
  },
  {
   "cell_type": "code",
   "execution_count": 2,
   "id": "2eb6dc03-c0de-41a2-9445-270d4c50afc0",
   "metadata": {},
   "outputs": [
    {
     "name": "stdout",
     "output_type": "stream",
     "text": [
      "1\n",
      "2\n",
      "3\n",
      "4\n",
      "6\n",
      "7\n"
     ]
    }
   ],
   "source": [
    "l=[1,2,3,4,6,7]\n",
    "for i in l:\n",
    "    print(i)"
   ]
  },
  {
   "cell_type": "code",
   "execution_count": 9,
   "id": "088c6e75-d552-4fe3-bb1e-c63a467ade3f",
   "metadata": {},
   "outputs": [
    {
     "name": "stdout",
     "output_type": "stream",
     "text": [
      "0\n",
      "1\n",
      "2\n",
      "3\n",
      "4\n"
     ]
    }
   ],
   "source": [
    "l=[]\n",
    "for i in range(5):\n",
    "    l.append(i)\n",
    "    print(i)"
   ]
  },
  {
   "cell_type": "code",
   "execution_count": 1,
   "id": "3b2339df-9832-431b-91da-eda0920a94b3",
   "metadata": {},
   "outputs": [
    {
     "name": "stdout",
     "output_type": "stream",
     "text": [
      "[0, 1, 2, 3, 4]\n"
     ]
    }
   ],
   "source": [
    "l=[]\n",
    "for i in range(5):\n",
    "    l.append(i)\n",
    "print(l)"
   ]
  },
  {
   "cell_type": "code",
   "execution_count": 11,
   "id": "f639f939-b06c-4601-8bf0-9163e4326402",
   "metadata": {},
   "outputs": [
    {
     "name": "stdout",
     "output_type": "stream",
     "text": [
      "0\n",
      "1\n",
      "2\n",
      "3\n",
      "4\n"
     ]
    }
   ],
   "source": [
    "l=[0, 1, 2, 3, 4]\n",
    "for i in range(len(l)):\n",
    "    print(i)"
   ]
  },
  {
   "cell_type": "code",
   "execution_count": null,
   "id": "3fc28cdd-92f2-48bb-a616-ea18d611ab96",
   "metadata": {},
   "outputs": [],
   "source": []
  },
  {
   "cell_type": "code",
   "execution_count": null,
   "id": "8122ec46-f5ce-45f6-a82a-56f50b0002f0",
   "metadata": {},
   "outputs": [],
   "source": []
  },
  {
   "cell_type": "markdown",
   "id": "4b2a8591-6b66-4f40-9ff1-5e6b89c82aed",
   "metadata": {},
   "source": [
    "#while loop:\n",
    ">How It Works\n",
    ">>The condition is evaluated before each iteration.\n",
    ">>If the condition is True, the block of code inside the loop is executed.\n",
    ">>Once the condition becomes False, the loop terminates.\n",
    ">>>if you want to iterate many values you must use the increament or decrement  i+=1 or i-=1"
   ]
  },
  {
   "cell_type": "code",
   "execution_count": 2,
   "id": "a981fa81-43e7-46fe-a9ce-fe5d3a38d748",
   "metadata": {},
   "outputs": [
    {
     "name": "stdout",
     "output_type": "stream",
     "text": [
      "1\n",
      "2\n",
      "3\n",
      "4\n",
      "5\n"
     ]
    }
   ],
   "source": [
    "count=1\n",
    "while count <=5:\n",
    "    print(count)\n",
    "    count+=1"
   ]
  },
  {
   "cell_type": "code",
   "execution_count": 3,
   "id": "174b7a1f-f0e5-47a8-b476-627ca2f054e8",
   "metadata": {},
   "outputs": [
    {
     "name": "stdout",
     "output_type": "stream",
     "text": [
      "type:'exit' to quit exit\n"
     ]
    }
   ],
   "source": [
    "#infinte loop \n",
    "while True:\n",
    "    user_input=input(\"type:'exit' to quit\")\n",
    "    if user_input=='exit':\n",
    "        break"
   ]
  },
  {
   "cell_type": "markdown",
   "id": "d45d38c4-052c-47c2-9939-67f2eba7f502",
   "metadata": {},
   "source": [
    "An infinite loop continues to run because the condition always evaluates to True. These loops are typically terminated with a break statement."
   ]
  },
  {
   "cell_type": "code",
   "execution_count": 7,
   "id": "c2da4c0f-c895-433c-b5a0-0ee818237361",
   "metadata": {},
   "outputs": [
    {
     "name": "stdout",
     "output_type": "stream",
     "text": [
      "1\n",
      "2\n",
      "3\n",
      "4\n",
      "5\n",
      "count Finshed\n"
     ]
    }
   ],
   "source": [
    "#while and else\n",
    "count =1\n",
    "while count<=5:\n",
    "    print(count)\n",
    "    count+=1\n",
    "else:\n",
    "    print('count Finshed')"
   ]
  },
  {
   "cell_type": "code",
   "execution_count": 16,
   "id": "df7e9d6f-6ea8-4072-aeba-6975fb5973f6",
   "metadata": {},
   "outputs": [
    {
     "name": "stdout",
     "output_type": "stream",
     "text": [
      "enter the input: no\n",
      "enter the input: secret\n"
     ]
    },
    {
     "name": "stdout",
     "output_type": "stream",
     "text": [
      "Access granted\n"
     ]
    }
   ],
   "source": [
    "#example   waiting for user input\n",
    "password=\"\"\n",
    "while password != 'secret':\n",
    "    password=input('enter the input:')\n",
    "    # print('wrong password! try again')\n",
    "else:\n",
    "    print('Access granted')\n",
    "    "
   ]
  },
  {
   "cell_type": "code",
   "execution_count": null,
   "id": "75c5ed4d-d255-4d9a-95d0-1cd43c0e83f1",
   "metadata": {},
   "outputs": [],
   "source": []
  },
  {
   "cell_type": "code",
   "execution_count": null,
   "id": "658a9bc3-a250-4c8d-a499-2b3d988a900b",
   "metadata": {},
   "outputs": [],
   "source": []
  },
  {
   "cell_type": "markdown",
   "id": "4d480592-96b3-467a-bf54-dbe8a7b27004",
   "metadata": {},
   "source": [
    "#map function\n",
    ">The map() function in Python is a built-in function used to apply a given function to all items in an iterable (like a list, tuple, or set) and return a map object (an iterator). It's particularly useful for transforming data in a concise and readable manner\n"
   ]
  },
  {
   "cell_type": "markdown",
   "id": "4db4527e-6447-4a3d-b13f-0a33813fe872",
   "metadata": {},
   "source": [
    "map(function, iterable, ...)\n",
    ">function: A function that defines the transformation to apply to each element of the iterable(s).\n",
    ">>iterable: One or more iterables to process. If multiple iterables are provided, the function should accept the same number of arguments as there are iterables."
   ]
  },
  {
   "cell_type": "code",
   "execution_count": 2,
   "id": "511ad9de-a185-41e3-9afc-1582afb06e0a",
   "metadata": {},
   "outputs": [
    {
     "name": "stdout",
     "output_type": "stream",
     "text": [
      "[1, 4, 9, 16, 25, 36]\n"
     ]
    }
   ],
   "source": [
    "def squre(x):\n",
    "    return x*x\n",
    "\n",
    "l=[1,2,3,4,5,6]\n",
    "print(list(map(squre,l)))"
   ]
  },
  {
   "cell_type": "code",
   "execution_count": 4,
   "id": "a960b572-0aac-4b28-ba6f-45dfb39ed384",
   "metadata": {},
   "outputs": [
    {
     "name": "stdout",
     "output_type": "stream",
     "text": [
      "[1, 3, 2, 0, 4]\n"
     ]
    }
   ],
   "source": [
    "#using lambda function in map\n",
    "tup=(2,4,3,1,5)\n",
    "\n",
    "sub=map(lambda x:x-1, tup)\n",
    "print(list(sub))"
   ]
  },
  {
   "cell_type": "code",
   "execution_count": 5,
   "id": "ffa10ead-152e-4321-b213-d848bbbb1041",
   "metadata": {},
   "outputs": [
    {
     "name": "stdout",
     "output_type": "stream",
     "text": [
      "[2, 4, 6, 8, 10]\n"
     ]
    }
   ],
   "source": [
    "#multiple iteration\n",
    "\n",
    "l=[1,2,3,4,5]\n",
    "t=(1,2,3,4,5)\n",
    "\n",
    "#using lambda function\n",
    "result=list(map(lambda x,y:x+y,l,t))\n",
    "print(result)"
   ]
  },
  {
   "cell_type": "code",
   "execution_count": 6,
   "id": "ca2d92ca-6f6b-4eb2-9adb-7c7ab8ad977a",
   "metadata": {},
   "outputs": [
    {
     "name": "stdout",
     "output_type": "stream",
     "text": [
      "['A', 'BALL', 'B', 'APPLE']\n"
     ]
    }
   ],
   "source": [
    "#mapping using string\n",
    "s={'a','apple','b','ball'}\n",
    "cap=list(map(str.upper,s))\n",
    "print(cap)"
   ]
  },
  {
   "cell_type": "code",
   "execution_count": null,
   "id": "eda9d413-14f3-4e2b-8852-3cdf64633ff3",
   "metadata": {},
   "outputs": [],
   "source": []
  },
  {
   "cell_type": "markdown",
   "id": "b961ebae-7547-41e4-a713-e7df55f51917",
   "metadata": {},
   "source": [
    "#sorted()\n",
    ">The sorted() function in Python is used to return a new sorted list from the elements of any iterable, such as lists, tuples, or strings, without modifying the original iterable. It allows you to sort data in ascending or descending order and can also be customized using a key."
   ]
  },
  {
   "cell_type": "markdown",
   "id": "227bc65e-40a8-4a1c-867a-b08d286bc3c1",
   "metadata": {},
   "source": [
    "sorted(iterable, *, key=None, reverse=False)\n",
    ">if ture - decending order false - ascending order"
   ]
  },
  {
   "cell_type": "code",
   "execution_count": 13,
   "id": "b3bbe861-fa9e-4340-b410-8992fd5cd7f8",
   "metadata": {},
   "outputs": [
    {
     "name": "stdout",
     "output_type": "stream",
     "text": [
      "[1, 2, 3, 4, 5]\n",
      "[3, 2, 4, 1, 5]\n",
      "[1, 2, 3, 4, 5]\n"
     ]
    }
   ],
   "source": [
    "nums=[3,2,4,1,5]\n",
    "\n",
    "sorted_list=sorted(nums)\n",
    "print(sorted_list)\n",
    "print(nums)  #orginal list doen't change \n",
    "\n",
    "#if using sorted() instant of sort()\n",
    "sort=nums.sort()   #this method change original list return none\n",
    "print(nums)  "
   ]
  },
  {
   "cell_type": "code",
   "execution_count": 16,
   "id": "959fa547-33dc-4143-b377-a3e39e4cad63",
   "metadata": {},
   "outputs": [
    {
     "name": "stdout",
     "output_type": "stream",
     "text": [
      "[5, 4, 3, 2, 1]\n"
     ]
    }
   ],
   "source": [
    "#sorting decenting order\n",
    "l=[1,2,3,4,5]\n",
    "print(sorted(l,reverse=True))"
   ]
  },
  {
   "cell_type": "code",
   "execution_count": 23,
   "id": "72717941-8f77-4870-8da3-02edc8cfec3e",
   "metadata": {},
   "outputs": [
    {
     "name": "stdout",
     "output_type": "stream",
     "text": [
      "['h', 'n', 'o', 'p', 't', 'y']\n",
      "['n', 'o', 'h', 't', 'y', 'p']\n",
      "nohtyp\n"
     ]
    }
   ],
   "source": [
    "#sorting string\n",
    "s='python'\n",
    "print(sorted(s))\n",
    "\n",
    "#reverse\n",
    "print(list(s)[::-1])\n",
    "print(s[::-1])"
   ]
  },
  {
   "cell_type": "code",
   "execution_count": 32,
   "id": "6637dd44-f304-4cc1-853e-572f9132c4e9",
   "metadata": {},
   "outputs": [
    {
     "name": "stdout",
     "output_type": "stream",
     "text": [
      "[(1, 'one'), (2, 'two'), (3, 'three')]\n",
      "[(1, 'one'), (3, 'three'), (2, 'two')]\n",
      "['kiwi', 'apple', 'banana', 'cherry']\n"
     ]
    }
   ],
   "source": [
    "#sorting a list of tuples\n",
    "\n",
    "l=[(3,'three'),(1,'one'),(2,'two')]\n",
    "print(sorted(l))\n",
    "\n",
    "#sorting based on specific keys\n",
    "print(sorted(l,key=lambda x:x[1]))\n",
    "\n",
    "#sorting with customes key\n",
    "# Sort by the length of the words\n",
    "words = ['apple', 'banana', 'kiwi', 'cherry']\n",
    "sorted_words = sorted(words, key=len)\n",
    "print(sorted_words)  # Output: ['kiwi', 'apple', 'cherry', 'banana']\n",
    "\n"
   ]
  },
  {
   "cell_type": "code",
   "execution_count": 33,
   "id": "8c28f59d-8c92-4c4d-92ef-864a34e8c8c1",
   "metadata": {},
   "outputs": [
    {
     "name": "stdout",
     "output_type": "stream",
     "text": [
      "[{'name': 'Bob', 'grade': 85}, {'name': 'Alice', 'grade': 90}, {'name': 'Charlie', 'grade': 92}]\n"
     ]
    }
   ],
   "source": [
    "students = [{'name': 'Alice', 'grade': 90}, {'name': 'Bob', 'grade': 85}, {'name': 'Charlie', 'grade': 92}]\n",
    "sorted_students = sorted(students, key=lambda x: x['grade'])\n",
    "print(sorted_students)\n",
    "# Output: [{'name': 'Bob', 'grade': 85}, {'name': 'Alice', 'grade': 90}, {'name': 'Charlie', 'grade': 92}]\n"
   ]
  },
  {
   "cell_type": "code",
   "execution_count": null,
   "id": "9c924f6d-6252-477b-9252-63fe13c9a54d",
   "metadata": {},
   "outputs": [],
   "source": []
  },
  {
   "cell_type": "markdown",
   "id": "c14aa2e5-aebc-402f-a9aa-075bc85a0781",
   "metadata": {},
   "source": [
    "#filter()\n",
    ">The filter() function in Python is used to filter elements from an iterable (e.g., list, tuple) based on a function that returns either True or False. It returns an iterator containing only the elements for which the function evaluates to True."
   ]
  },
  {
   "cell_type": "markdown",
   "id": "686753b6-2616-4d00-940c-a3f07f74f9b4",
   "metadata": {},
   "source": [
    "filter(function, iterable)\n",
    ">function: A function that evaluates each element. It should return True to include the element or False to exclude it.\n",
    ">>iterable: The sequence (e.g., list, tuple, string) to filter."
   ]
  },
  {
   "cell_type": "code",
   "execution_count": 37,
   "id": "3741c022-64f0-4ad4-b281-6d0584c2ac7a",
   "metadata": {},
   "outputs": [
    {
     "name": "stdout",
     "output_type": "stream",
     "text": [
      "[2, 4, 6, 8]\n"
     ]
    }
   ],
   "source": [
    "#filter the even numbers form the list\n",
    "l=[1,2,3,4,5,6,7,8]\n",
    "def find_even(x):\n",
    "    return x%2==0\n",
    "print(list(filter(find_even,l)))"
   ]
  },
  {
   "cell_type": "markdown",
   "id": "209eedba-ecb9-455d-8fbd-f74593ccd93f",
   "metadata": {},
   "source": [
    "#reduce()\n",
    ">the function is used to apply a pariticular function passed in its arguments to all of the list elements mentioned in the sequence passed along.\n",
    ">>functions is defined in 'functools' module\n"
   ]
  },
  {
   "cell_type": "markdown",
   "id": "8f20bca9-3058-4621-a265-b16ceaa7a75c",
   "metadata": {},
   "source": [
    "#functools.reduce(function, iterable[, initializer])\n",
    "function: A function that takes two arguments and returns a value (e.g., a + b).\n",
    ">iterable: The iterable whose elements you want to process.\n",
    ">>initializer (optional): A value that initializes the computation and is placed before the first element.\n"
   ]
  },
  {
   "cell_type": "markdown",
   "id": "c692228d-e688-460a-ab96-2fb0ecfda9ab",
   "metadata": {},
   "source": [
    "Characteristics:\n",
    ">Sequential Processing:\n",
    "Processes the elements sequentially.\n",
    ">>Requires Two Arguments:\n",
    "The function passed to reduce() must take exactly two arguments.\n",
    ">>>Not Built-In:\n",
    "reduce() needs to be imported from the functools module.\n"
   ]
  },
  {
   "cell_type": "code",
   "execution_count": 4,
   "id": "d883ecc3-a95d-4132-9579-02fe8ec92246",
   "metadata": {},
   "outputs": [
    {
     "name": "stdout",
     "output_type": "stream",
     "text": [
      "15\n"
     ]
    }
   ],
   "source": [
    "from functools import reduce\n",
    "\n",
    "num=[1,2,3,4,5]\n",
    "print(reduce(lambda x,y:x+y,num))"
   ]
  },
  {
   "cell_type": "code",
   "execution_count": 8,
   "id": "bf859e0d-7c9a-42d5-8c49-f7fcf3181def",
   "metadata": {},
   "outputs": [
    {
     "name": "stdout",
     "output_type": "stream",
     "text": [
      "15\n"
     ]
    }
   ],
   "source": [
    "#sum() is more efficient for summing elements since it is optimized for this specific task.\n",
    "num=[1,2,3,4,5]\n",
    "print(sum(num))"
   ]
  },
  {
   "cell_type": "code",
   "execution_count": 12,
   "id": "265d4583-b60c-4ccc-905b-866801d354b3",
   "metadata": {},
   "outputs": [
    {
     "name": "stdout",
     "output_type": "stream",
     "text": [
      "15\n"
     ]
    }
   ],
   "source": [
    "#reduce() can often replace loops for cumulative operations\n",
    "num=[1,2,3,4,5]\n",
    "result=0\n",
    "for i in num:\n",
    "    result+=i\n",
    "print(result)"
   ]
  },
  {
   "cell_type": "code",
   "execution_count": null,
   "id": "de25fbaf-8916-4837-8b9d-8fd0ac606f25",
   "metadata": {},
   "outputs": [],
   "source": []
  },
  {
   "cell_type": "markdown",
   "id": "cc07b72a-5540-4916-a602-f27a410c43cb",
   "metadata": {},
   "source": [
    "zlib:\n",
    ">zlib is a Python module that provides functions for compression and decompression of data using the DEFLATE compression algorithm, which is commonly used for file compression and data transmission. The zlib library is simple and efficient for compressing and decompressing data in Python.\n",
    ">>the data must be a bytes"
   ]
  },
  {
   "cell_type": "code",
   "execution_count": 25,
   "id": "771f6b72-90d2-469c-881f-d95fbafaf1c5",
   "metadata": {},
   "outputs": [
    {
     "name": "stdout",
     "output_type": "stream",
     "text": [
      "41\n",
      "25\n",
      "41\n"
     ]
    }
   ],
   "source": [
    "import zlib\n",
    "\n",
    "data = b\"Hello, World! Hello, World! Hello, World!\"\n",
    "#data change a byte format\n",
    "\n",
    "print(len(data))\n",
    "\n",
    "compresed_data=zlib.compress(data,level=9)\n",
    "print(len(compresed_data))\n",
    "\n",
    "decompressed_data=zlib.decompress(compresed_data)\n",
    "print(len(decompressed_data))\n"
   ]
  },
  {
   "cell_type": "code",
   "execution_count": null,
   "id": "ad6e85ac-bb11-40d3-865d-81f93b5b1cb5",
   "metadata": {},
   "outputs": [],
   "source": []
  },
  {
   "cell_type": "markdown",
   "id": "427b5650-b1a5-4267-b25b-c0888cc11253",
   "metadata": {},
   "source": [
    "#__iter__():\n",
    "The __iter__() method in Python is a special method used to define an iterable object. An iterable is any object that can return its elements one at a time.\n",
    ">an iterator is an object that can be used to loop through collections, like array(list) and hashset.\n",
    ">>The __iter__() method returns an iterator object.\n",
    "||An iterator is an object that implements the __next__() method, which retrieves the next value in the sequence."
   ]
  },
  {
   "cell_type": "code",
   "execution_count": 4,
   "id": "ef983ad0-80e0-4e62-96a5-7c21765d1611",
   "metadata": {},
   "outputs": [
    {
     "name": "stdout",
     "output_type": "stream",
     "text": [
      "1\n",
      "2\n",
      "3\n",
      "4\n",
      "5\n"
     ]
    }
   ],
   "source": [
    "l=[1,2,3,4,5]\n",
    "\n",
    "for i in l:   #this using for loop\n",
    "    print(i)"
   ]
  },
  {
   "cell_type": "code",
   "execution_count": 10,
   "id": "7053b628-d67c-4eb0-a545-4c3d61ee98c8",
   "metadata": {},
   "outputs": [
    {
     "name": "stdout",
     "output_type": "stream",
     "text": [
      "1\n",
      "2\n",
      "3\n",
      "4\n",
      "5\n"
     ]
    }
   ],
   "source": [
    "l=[1,2,3,4,5]\n",
    "\n",
    "iterator=iter(l)\n",
    "print(next(iterator))\n",
    "print(next(iterator))\n",
    "print(next(iterator))\n",
    "print(next(iterator))\n",
    "print(next(iterator))"
   ]
  },
  {
   "cell_type": "code",
   "execution_count": 13,
   "id": "68c6cb2f-5d10-4d9d-bb5c-431b17c4f7f2",
   "metadata": {},
   "outputs": [
    {
     "name": "stdout",
     "output_type": "stream",
     "text": [
      "0\n",
      "1\n",
      "1\n",
      "1\n",
      "2\n",
      "3\n",
      "5\n",
      "8\n",
      "13\n",
      "21\n"
     ]
    }
   ],
   "source": [
    "class fibnoacci():\n",
    "    def __init__(self,n):\n",
    "        self.n=n\n",
    "    def __iter__(self):\n",
    "        self.count=0\n",
    "        self.a,self.b=0,1\n",
    "        return self\n",
    "    def __next__(self):\n",
    "        if self.count >= self.n:\n",
    "            raise StopIteration\n",
    "        if self.count==0:\n",
    "            self.count+=1\n",
    "            return self.a\n",
    "        elif self.count == 1:\n",
    "            self.count+=1\n",
    "            return self.b\n",
    "        else:\n",
    "            self.count+=1\n",
    "            self.a,self.b=self.b,self.a+self.b\n",
    "            return self.a\n",
    "fib=fibnoacci(10)\n",
    "\n",
    "for num in fib:\n",
    "    print(num)\n",
    "            "
   ]
  },
  {
   "cell_type": "code",
   "execution_count": null,
   "id": "33175e77-c490-4cf3-9b76-dc0634c35ea9",
   "metadata": {},
   "outputs": [],
   "source": []
  },
  {
   "cell_type": "markdown",
   "id": "b7bfc90e-a8e0-43ea-a743-a8fd450cd138",
   "metadata": {},
   "source": [
    "#Generator\n",
    ":A generator in Python is a special type of iterable, defined using a function that uses the yield keyword instead of return.\n",
    "> It allows you to produce items lazily, meaning items are generated one at a time and not stored in memory all at once. >>This makes generators memory efficient, especially for large datasets or infinite sequences."
   ]
  },
  {
   "cell_type": "code",
   "execution_count": 23,
   "id": "219655e1-9eff-4f0e-b47d-22343f1e3f3d",
   "metadata": {},
   "outputs": [
    {
     "name": "stdin",
     "output_type": "stream",
     "text": [
      "Enter the range: 10\n"
     ]
    },
    {
     "name": "stdout",
     "output_type": "stream",
     "text": [
      "0\n",
      "2\n",
      "4\n",
      "6\n",
      "8\n"
     ]
    }
   ],
   "source": [
    "#simple\n",
    "def even_numbers():\n",
    "    n=int(input('Enter the range:'))\n",
    "    for i in range(n):\n",
    "        if i % 2 ==0:\n",
    "            yield i\n",
    "        \n",
    "nums=even_numbers()\n",
    "for num in nums:\n",
    "    print(num)"
   ]
  },
  {
   "cell_type": "code",
   "execution_count": 25,
   "id": "54891b1c-6588-4f89-ae6f-1cffe87c1593",
   "metadata": {},
   "outputs": [
    {
     "name": "stdout",
     "output_type": "stream",
     "text": [
      "[0, 1, 4, 9, 16, 25, 36, 49, 64, 81]\n"
     ]
    }
   ],
   "source": [
    "#Generators can also be created using a generator expression:\n",
    "gen_exp=(x ** 2 for x in range(10))\n",
    "print(list(gen_exp)) #fibnoacci no's\n"
   ]
  },
  {
   "cell_type": "code",
   "execution_count": null,
   "id": "701b67c8-b0ba-45c7-bc26-337463dd7770",
   "metadata": {},
   "outputs": [],
   "source": []
  },
  {
   "cell_type": "markdown",
   "id": "44a854f6-25d3-461b-8392-766abb1b0a09",
   "metadata": {},
   "source": [
    "#decorator : one function (output) another function input\n",
    ">A decorator in Python is a design pattern that allows you to modify or extend the behavior of a function or method without permanently modifying its code.\n",
    ">> Decorators are typically used to add functionality, logging, authentication, or other behaviors to existing functions in a clean and reusable way."
   ]
  },
  {
   "cell_type": "code",
   "execution_count": 27,
   "id": "625c5dbb-8824-4b70-967d-ff1c2dbdcc0d",
   "metadata": {},
   "outputs": [
    {
     "name": "stdout",
     "output_type": "stream",
     "text": [
      "before the function running\n",
      "hello\n",
      "after the function running\n"
     ]
    }
   ],
   "source": [
    "#simple\n",
    "def decorator_func(func):\n",
    "    def wrapper():      #This is the decorator function that wraps func inside another function (wrapper) and adds additional behavior.\n",
    "        print('before the function running')\n",
    "        func()\n",
    "        print('after the function running')\n",
    "    return wrapper   #The inner function defines what happens before and after the original function is called.\n",
    "\n",
    "@decorator_func     #This syntax is shorthand for say_hello = decorator_function(say_hello).\n",
    "def say_hello():\n",
    "    print('hello')\n",
    "\n",
    "say_hello()"
   ]
  },
  {
   "cell_type": "code",
   "execution_count": 40,
   "id": "f45db4b2-ebba-44e9-bd57-ef562f668b22",
   "metadata": {},
   "outputs": [
    {
     "name": "stdout",
     "output_type": "stream",
     "text": [
      "called function is add and (3,) and {'b': 2}\n",
      "add result is 5\n"
     ]
    },
    {
     "data": {
      "text/plain": [
       "5"
      ]
     },
     "execution_count": 40,
     "metadata": {},
     "output_type": "execute_result"
    }
   ],
   "source": [
    "#common use case of decorator\n",
    "def log_decorator(func):\n",
    "    def wrapper(*a,**b):\n",
    "        print(f'called function is {func.__name__} and {a} and {b}')\n",
    "        result=func(*a,**b)\n",
    "        print(f'{func.__name__} result is {result}')\n",
    "        return result # Ensures the original function's output is returned\n",
    "    return wrapper\n",
    "\n",
    "@log_decorator\n",
    "def add(a,b):\n",
    "    return a+b\n",
    "add(3,b=2)\n",
    "# view=add(2,3)\n",
    "# print(view)\n",
    "\n"
   ]
  },
  {
   "cell_type": "code",
   "execution_count": null,
   "id": "6178d15e-3eb1-4e14-ba92-7a3717c1e83a",
   "metadata": {},
   "outputs": [],
   "source": []
  }
 ],
 "metadata": {
  "kernelspec": {
   "display_name": "Python 3 (ipykernel)",
   "language": "python",
   "name": "python3"
  },
  "language_info": {
   "codemirror_mode": {
    "name": "ipython",
    "version": 3
   },
   "file_extension": ".py",
   "mimetype": "text/x-python",
   "name": "python",
   "nbconvert_exporter": "python",
   "pygments_lexer": "ipython3",
   "version": "3.13.1"
  }
 },
 "nbformat": 4,
 "nbformat_minor": 5
}
