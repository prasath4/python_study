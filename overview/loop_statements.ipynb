{
 "cells": [
  {
   "cell_type": "markdown",
   "id": "a0d5fb12-b82e-4e90-ac91-fc0581db9b96",
   "metadata": {},
   "source": [
    "#if Statement\n",
    ">The if statement allows decision-making in your code based on conditions."
   ]
  },
  {
   "cell_type": "markdown",
   "id": "d1beb637-859d-46df-9b03-a43da9fb4608",
   "metadata": {},
   "source": [
    "#syntax : if condition:\n",
    ">code to execute if it is true\n",
    ">>simple concept of if"
   ]
  },
  {
   "cell_type": "code",
   "execution_count": 1,
   "id": "e88ef7ce-12e5-49e8-8442-d560e98eb85c",
   "metadata": {},
   "outputs": [
    {
     "name": "stdout",
     "output_type": "stream",
     "text": [
      "10 is greater than 5\n"
     ]
    }
   ],
   "source": [
    "x=10\n",
    "if x>5:\n",
    "    print(f'{x} is greater than 5')\n",
    "    "
   ]
  },
  {
   "cell_type": "markdown",
   "id": "d0759186-200c-41b6-8615-34aa862504ef",
   "metadata": {},
   "source": [
    "#complex concept:using elif and else"
   ]
  },
  {
   "cell_type": "code",
   "execution_count": 2,
   "id": "7346a8c5-e94a-44cf-8908-e0624adcaf2c",
   "metadata": {},
   "outputs": [
    {
     "name": "stdout",
     "output_type": "stream",
     "text": [
      "10 is equals to 10\n"
     ]
    }
   ],
   "source": [
    "x=10\n",
    "if x>10:\n",
    "    print(f'{x} is greater than 10')\n",
    "elif x == 10:\n",
    "    print(f'{x} is equals to 10')\n",
    "else:\n",
    "    print(f'{x} is less than 10')\n"
   ]
  },
  {
   "cell_type": "markdown",
   "id": "a9a21d70-6446-4a57-b8c9-d6c4760c2bbb",
   "metadata": {},
   "source": [
    "#Nested if:\n",
    ">You can nest if statements inside one another."
   ]
  },
  {
   "cell_type": "code",
   "execution_count": 4,
   "id": "c0e19aac-fed9-4b77-9bf4-e6e192773dca",
   "metadata": {},
   "outputs": [
    {
     "name": "stdout",
     "output_type": "stream",
     "text": [
      "20 is between 10 and 30\n"
     ]
    }
   ],
   "source": [
    "x = 20\n",
    "if x > 10:\n",
    "    if x < 30:\n",
    "        print(f\"{x} is between 10 and 30\")\n"
   ]
  },
  {
   "cell_type": "markdown",
   "id": "674a6575-a648-4986-a9fc-eb5718052daa",
   "metadata": {},
   "source": [
    "#Short-Hand if (One-liner)"
   ]
  },
  {
   "cell_type": "code",
   "execution_count": 5,
   "id": "dd4657ec-3ba7-40fd-84b3-25f384ca26b5",
   "metadata": {},
   "outputs": [
    {
     "name": "stdout",
     "output_type": "stream",
     "text": [
      "10 is greater than 5\n"
     ]
    }
   ],
   "source": [
    "x=10\n",
    "if x>5: print(f'{x} is greater than 5')"
   ]
  },
  {
   "cell_type": "markdown",
   "id": "6b42d3c0-2d11-4596-82ad-3d0d00aaf3e0",
   "metadata": {},
   "source": [
    ">if conditions, you can simplify using early return statements in functions."
   ]
  },
  {
   "cell_type": "code",
   "execution_count": null,
   "id": "f8323781-5759-41d3-a2c9-c289ff633051",
   "metadata": {},
   "outputs": [],
   "source": []
  },
  {
   "cell_type": "markdown",
   "id": "717d6d9f-dfb5-4d40-b450-a8b5445d4d04",
   "metadata": {},
   "source": [
    "#ternary operator using if statement\n",
    ">value = true_value if condition else false_value\n"
   ]
  },
  {
   "cell_type": "code",
   "execution_count": 9,
   "id": "7ac25ae6-1589-4c56-aad7-83287f522433",
   "metadata": {},
   "outputs": [
    {
     "name": "stdout",
     "output_type": "stream",
     "text": [
      "greater than 5\n"
     ]
    }
   ],
   "source": [
    "x=10\n",
    "result='greater than 5' if x>5 else 'less than or equal to 5' \n",
    "print(result)"
   ]
  },
  {
   "cell_type": "markdown",
   "id": "6d20e0f2-d317-42e3-a92f-3f4699a6b607",
   "metadata": {},
   "source": [
    "Unlike other languages, Python doesn't use ? or : for the ternary operation. Instead, it uses the if and else keywords for better readability."
   ]
  },
  {
   "cell_type": "code",
   "execution_count": null,
   "id": "cbe7f2c6-8955-4fd1-94db-cf24837abf86",
   "metadata": {},
   "outputs": [],
   "source": []
  },
  {
   "cell_type": "markdown",
   "id": "efb7ce56-e810-487e-b9ac-b82750d59302",
   "metadata": {},
   "source": [
    "You can use logical operators like and and or to replace simple if statements."
   ]
  },
  {
   "cell_type": "code",
   "execution_count": 10,
   "id": "3fa6572d-9bfb-4e40-8b6c-a2bbb098fc85",
   "metadata": {},
   "outputs": [
    {
     "name": "stdout",
     "output_type": "stream",
     "text": [
      "10 is greater than 5\n"
     ]
    }
   ],
   "source": [
    "x=10 \n",
    "x>5 and print(f'{x} is greater than 5')"
   ]
  },
  {
   "cell_type": "markdown",
   "id": "a8081436-8f06-46e5-84b0-55dbc894e41b",
   "metadata": {},
   "source": [
    "#lambda arguments: expression\n",
    ">Arguments: Input values.\n",
    ">>Expression: A single line of logic that is evaluated and returned.\n"
   ]
  },
  {
   "cell_type": "code",
   "execution_count": 15,
   "id": "18629818-f23c-47b7-9523-ab394ff44911",
   "metadata": {},
   "outputs": [
    {
     "name": "stdout",
     "output_type": "stream",
     "text": [
      "9\n"
     ]
    }
   ],
   "source": [
    "square=lambda x:x**2\n",
    "print(square(3))  #lambda Functions single argument"
   ]
  },
  {
   "cell_type": "code",
   "execution_count": 17,
   "id": "93d30fe7-1799-4987-a9d2-ffc2f49b9b24",
   "metadata": {},
   "outputs": [
    {
     "name": "stdout",
     "output_type": "stream",
     "text": [
      "5\n"
     ]
    }
   ],
   "source": [
    "add=lambda x,y:x+y\n",
    "print(add(2,3)) #lambda function multiple arguments"
   ]
  },
  {
   "cell_type": "code",
   "execution_count": 18,
   "id": "3a8e72f0-1297-4ba5-b6f7-c5b656c60c98",
   "metadata": {},
   "outputs": [
    {
     "name": "stdout",
     "output_type": "stream",
     "text": [
      "125\n"
     ]
    }
   ],
   "source": [
    "print((lambda x: x ** 3)(5))  # Output: 125\n",
    "#inline function"
   ]
  },
  {
   "cell_type": "code",
   "execution_count": null,
   "id": "5d2962b0-8de1-4e6a-8c75-4deb21e32cc5",
   "metadata": {},
   "outputs": [],
   "source": []
  },
  {
   "cell_type": "markdown",
   "id": "9cd533b9-b601-4f45-8ae6-f70d3e4efa4e",
   "metadata": {},
   "source": [
    "#for loop"
   ]
  },
  {
   "cell_type": "code",
   "execution_count": 1,
   "id": "dabbbc81-dfe5-4a80-a246-7b989bffb192",
   "metadata": {},
   "outputs": [
    {
     "name": "stdout",
     "output_type": "stream",
     "text": [
      "0\n",
      "1\n",
      "2\n",
      "3\n",
      "4\n",
      "5\n",
      "6\n",
      "7\n",
      "8\n",
      "9\n"
     ]
    }
   ],
   "source": [
    "for i in range(0,10):\n",
    "    print(i)"
   ]
  },
  {
   "cell_type": "code",
   "execution_count": 2,
   "id": "2eb6dc03-c0de-41a2-9445-270d4c50afc0",
   "metadata": {},
   "outputs": [
    {
     "name": "stdout",
     "output_type": "stream",
     "text": [
      "1\n",
      "2\n",
      "3\n",
      "4\n",
      "6\n",
      "7\n"
     ]
    }
   ],
   "source": [
    "l=[1,2,3,4,6,7]\n",
    "for i in l:\n",
    "    print(i)"
   ]
  },
  {
   "cell_type": "code",
   "execution_count": 9,
   "id": "088c6e75-d552-4fe3-bb1e-c63a467ade3f",
   "metadata": {},
   "outputs": [
    {
     "name": "stdout",
     "output_type": "stream",
     "text": [
      "0\n",
      "1\n",
      "2\n",
      "3\n",
      "4\n"
     ]
    }
   ],
   "source": [
    "l=[]\n",
    "for i in range(5):\n",
    "    l.append(i)\n",
    "    print(i)"
   ]
  },
  {
   "cell_type": "code",
   "execution_count": 10,
   "id": "3b2339df-9832-431b-91da-eda0920a94b3",
   "metadata": {},
   "outputs": [
    {
     "name": "stdout",
     "output_type": "stream",
     "text": [
      "[0]\n",
      "[0, 1]\n",
      "[0, 1, 2]\n",
      "[0, 1, 2, 3]\n",
      "[0, 1, 2, 3, 4]\n"
     ]
    }
   ],
   "source": [
    "l=[]\n",
    "for i in range(5):\n",
    "    l.append(i)\n",
    "    print(l)"
   ]
  },
  {
   "cell_type": "code",
   "execution_count": 11,
   "id": "f639f939-b06c-4601-8bf0-9163e4326402",
   "metadata": {},
   "outputs": [
    {
     "name": "stdout",
     "output_type": "stream",
     "text": [
      "0\n",
      "1\n",
      "2\n",
      "3\n",
      "4\n"
     ]
    }
   ],
   "source": [
    "l=[0, 1, 2, 3, 4]\n",
    "for i in range(len(l)):\n",
    "    print(i)"
   ]
  },
  {
   "cell_type": "code",
   "execution_count": null,
   "id": "3fc28cdd-92f2-48bb-a616-ea18d611ab96",
   "metadata": {},
   "outputs": [],
   "source": []
  }
 ],
 "metadata": {
  "kernelspec": {
   "display_name": "Python 3 (ipykernel)",
   "language": "python",
   "name": "python3"
  },
  "language_info": {
   "codemirror_mode": {
    "name": "ipython",
    "version": 3
   },
   "file_extension": ".py",
   "mimetype": "text/x-python",
   "name": "python",
   "nbconvert_exporter": "python",
   "pygments_lexer": "ipython3",
   "version": "3.11.9"
  }
 },
 "nbformat": 4,
 "nbformat_minor": 5
}
